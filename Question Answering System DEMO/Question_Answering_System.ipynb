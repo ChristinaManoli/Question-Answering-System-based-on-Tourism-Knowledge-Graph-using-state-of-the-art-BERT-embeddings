{
  "nbformat": 4,
  "nbformat_minor": 0,
  "metadata": {
    "colab": {
      "provenance": []
    },
    "kernelspec": {
      "name": "python3",
      "display_name": "Python 3"
    },
    "language_info": {
      "name": "python"
    }
  },
  "cells": [
    {
      "cell_type": "code",
      "execution_count": 1,
      "metadata": {
        "id": "pFfn5CzsRIYL",
        "colab": {
          "base_uri": "https://localhost:8080/"
        },
        "outputId": "7ef66b54-8017-4df6-c911-ca82d3d6c7fc"
      },
      "outputs": [
        {
          "output_type": "stream",
          "name": "stdout",
          "text": [
            "Looking in indexes: https://pypi.org/simple, https://us-python.pkg.dev/colab-wheels/public/simple/\n",
            "Requirement already satisfied: transformers in /usr/local/lib/python3.8/dist-packages (4.26.1)\n",
            "Requirement already satisfied: filelock in /usr/local/lib/python3.8/dist-packages (from transformers) (3.9.0)\n",
            "Requirement already satisfied: regex!=2019.12.17 in /usr/local/lib/python3.8/dist-packages (from transformers) (2022.6.2)\n",
            "Requirement already satisfied: huggingface-hub<1.0,>=0.11.0 in /usr/local/lib/python3.8/dist-packages (from transformers) (0.12.0)\n",
            "Requirement already satisfied: requests in /usr/local/lib/python3.8/dist-packages (from transformers) (2.25.1)\n",
            "Requirement already satisfied: tqdm>=4.27 in /usr/local/lib/python3.8/dist-packages (from transformers) (4.64.1)\n",
            "Requirement already satisfied: packaging>=20.0 in /usr/local/lib/python3.8/dist-packages (from transformers) (23.0)\n",
            "Requirement already satisfied: pyyaml>=5.1 in /usr/local/lib/python3.8/dist-packages (from transformers) (6.0)\n",
            "Requirement already satisfied: tokenizers!=0.11.3,<0.14,>=0.11.1 in /usr/local/lib/python3.8/dist-packages (from transformers) (0.13.2)\n",
            "Requirement already satisfied: numpy>=1.17 in /usr/local/lib/python3.8/dist-packages (from transformers) (1.21.6)\n",
            "Requirement already satisfied: typing-extensions>=3.7.4.3 in /usr/local/lib/python3.8/dist-packages (from huggingface-hub<1.0,>=0.11.0->transformers) (4.4.0)\n",
            "Requirement already satisfied: idna<3,>=2.5 in /usr/local/lib/python3.8/dist-packages (from requests->transformers) (2.10)\n",
            "Requirement already satisfied: certifi>=2017.4.17 in /usr/local/lib/python3.8/dist-packages (from requests->transformers) (2022.12.7)\n",
            "Requirement already satisfied: urllib3<1.27,>=1.21.1 in /usr/local/lib/python3.8/dist-packages (from requests->transformers) (1.24.3)\n",
            "Requirement already satisfied: chardet<5,>=3.0.2 in /usr/local/lib/python3.8/dist-packages (from requests->transformers) (4.0.0)\n",
            "Looking in indexes: https://pypi.org/simple, https://us-python.pkg.dev/colab-wheels/public/simple/\n",
            "Requirement already satisfied: sentence-transformers in /usr/local/lib/python3.8/dist-packages (2.2.2)\n",
            "Requirement already satisfied: huggingface-hub>=0.4.0 in /usr/local/lib/python3.8/dist-packages (from sentence-transformers) (0.12.0)\n",
            "Requirement already satisfied: tqdm in /usr/local/lib/python3.8/dist-packages (from sentence-transformers) (4.64.1)\n",
            "Requirement already satisfied: torchvision in /usr/local/lib/python3.8/dist-packages (from sentence-transformers) (0.14.1+cu116)\n",
            "Requirement already satisfied: scipy in /usr/local/lib/python3.8/dist-packages (from sentence-transformers) (1.7.3)\n",
            "Requirement already satisfied: transformers<5.0.0,>=4.6.0 in /usr/local/lib/python3.8/dist-packages (from sentence-transformers) (4.26.1)\n",
            "Requirement already satisfied: torch>=1.6.0 in /usr/local/lib/python3.8/dist-packages (from sentence-transformers) (1.13.1+cu116)\n",
            "Requirement already satisfied: nltk in /usr/local/lib/python3.8/dist-packages (from sentence-transformers) (3.7)\n",
            "Requirement already satisfied: scikit-learn in /usr/local/lib/python3.8/dist-packages (from sentence-transformers) (1.0.2)\n",
            "Requirement already satisfied: sentencepiece in /usr/local/lib/python3.8/dist-packages (from sentence-transformers) (0.1.97)\n",
            "Requirement already satisfied: numpy in /usr/local/lib/python3.8/dist-packages (from sentence-transformers) (1.21.6)\n",
            "Requirement already satisfied: typing-extensions>=3.7.4.3 in /usr/local/lib/python3.8/dist-packages (from huggingface-hub>=0.4.0->sentence-transformers) (4.4.0)\n",
            "Requirement already satisfied: requests in /usr/local/lib/python3.8/dist-packages (from huggingface-hub>=0.4.0->sentence-transformers) (2.25.1)\n",
            "Requirement already satisfied: pyyaml>=5.1 in /usr/local/lib/python3.8/dist-packages (from huggingface-hub>=0.4.0->sentence-transformers) (6.0)\n",
            "Requirement already satisfied: filelock in /usr/local/lib/python3.8/dist-packages (from huggingface-hub>=0.4.0->sentence-transformers) (3.9.0)\n",
            "Requirement already satisfied: packaging>=20.9 in /usr/local/lib/python3.8/dist-packages (from huggingface-hub>=0.4.0->sentence-transformers) (23.0)\n",
            "Requirement already satisfied: regex!=2019.12.17 in /usr/local/lib/python3.8/dist-packages (from transformers<5.0.0,>=4.6.0->sentence-transformers) (2022.6.2)\n",
            "Requirement already satisfied: tokenizers!=0.11.3,<0.14,>=0.11.1 in /usr/local/lib/python3.8/dist-packages (from transformers<5.0.0,>=4.6.0->sentence-transformers) (0.13.2)\n",
            "Requirement already satisfied: joblib in /usr/local/lib/python3.8/dist-packages (from nltk->sentence-transformers) (1.2.0)\n",
            "Requirement already satisfied: click in /usr/local/lib/python3.8/dist-packages (from nltk->sentence-transformers) (7.1.2)\n",
            "Requirement already satisfied: threadpoolctl>=2.0.0 in /usr/local/lib/python3.8/dist-packages (from scikit-learn->sentence-transformers) (3.1.0)\n",
            "Requirement already satisfied: pillow!=8.3.*,>=5.3.0 in /usr/local/lib/python3.8/dist-packages (from torchvision->sentence-transformers) (7.1.2)\n",
            "Requirement already satisfied: idna<3,>=2.5 in /usr/local/lib/python3.8/dist-packages (from requests->huggingface-hub>=0.4.0->sentence-transformers) (2.10)\n",
            "Requirement already satisfied: urllib3<1.27,>=1.21.1 in /usr/local/lib/python3.8/dist-packages (from requests->huggingface-hub>=0.4.0->sentence-transformers) (1.24.3)\n",
            "Requirement already satisfied: certifi>=2017.4.17 in /usr/local/lib/python3.8/dist-packages (from requests->huggingface-hub>=0.4.0->sentence-transformers) (2022.12.7)\n",
            "Requirement already satisfied: chardet<5,>=3.0.2 in /usr/local/lib/python3.8/dist-packages (from requests->huggingface-hub>=0.4.0->sentence-transformers) (4.0.0)\n",
            "Looking in indexes: https://pypi.org/simple, https://us-python.pkg.dev/colab-wheels/public/simple/\n",
            "Requirement already satisfied: truecase in /usr/local/lib/python3.8/dist-packages (0.0.14)\n",
            "Requirement already satisfied: nltk in /usr/local/lib/python3.8/dist-packages (from truecase) (3.7)\n",
            "Requirement already satisfied: click in /usr/local/lib/python3.8/dist-packages (from nltk->truecase) (7.1.2)\n",
            "Requirement already satisfied: regex>=2021.8.3 in /usr/local/lib/python3.8/dist-packages (from nltk->truecase) (2022.6.2)\n",
            "Requirement already satisfied: tqdm in /usr/local/lib/python3.8/dist-packages (from nltk->truecase) (4.64.1)\n",
            "Requirement already satisfied: joblib in /usr/local/lib/python3.8/dist-packages (from nltk->truecase) (1.2.0)\n"
          ]
        },
        {
          "output_type": "stream",
          "name": "stderr",
          "text": [
            "[nltk_data] Downloading package stopwords to /root/nltk_data...\n",
            "[nltk_data]   Package stopwords is already up-to-date!\n",
            "[nltk_data] Downloading package wordnet to /root/nltk_data...\n",
            "[nltk_data]   Package wordnet is already up-to-date!\n",
            "[nltk_data] Downloading package omw-1.4 to /root/nltk_data...\n",
            "[nltk_data]   Package omw-1.4 is already up-to-date!\n",
            "[nltk_data] Downloading package punkt to /root/nltk_data...\n",
            "[nltk_data]   Package punkt is already up-to-date!\n",
            "/usr/local/lib/python3.8/dist-packages/torch/cuda/__init__.py:497: UserWarning: Can't initialize NVML\n",
            "  warnings.warn(\"Can't initialize NVML\")\n"
          ]
        }
      ],
      "source": [
        "!pip install transformers\n",
        "!pip install sentence-transformers\n",
        "!pip3 install truecase\n",
        "\n",
        "\n",
        "## for data\n",
        "import json\n",
        "import pandas as pd\n",
        "import numpy as np\n",
        "from sklearn import metrics, manifold\n",
        "from sklearn.metrics.pairwise import cosine_similarity\n",
        "\n",
        "## for processing\n",
        "import re\n",
        "import nltk\n",
        "nltk.download('stopwords')\n",
        "nltk.download('wordnet')\n",
        "nltk.download('omw-1.4')\n",
        "nltk.download('punkt')\n",
        "import string\n",
        "\n",
        "## for w2v\n",
        "import gensim\n",
        "import gensim.downloader as gensim_api\n",
        "\n",
        "## for bert\n",
        "import transformers\n",
        "\n",
        "from sentence_transformers import SentenceTransformer\n",
        "\n",
        "\n",
        "import spacy\n",
        "from spacy import displacy\n",
        "\n",
        "import truecase"
      ]
    },
    {
      "cell_type": "code",
      "source": [
        "Question = input(\"What do you want to know? \\n\")"
      ],
      "metadata": {
        "colab": {
          "base_uri": "https://localhost:8080/"
        },
        "id": "oWXvAdbf-S9E",
        "outputId": "0759f66e-8b4d-4574-e698-278637c49d3b"
      },
      "execution_count": 2,
      "outputs": [
        {
          "name": "stdout",
          "output_type": "stream",
          "text": [
            "What do you want to know? \n",
            "What are some places for families to visit\n"
          ]
        }
      ]
    },
    {
      "cell_type": "markdown",
      "source": [
        "# Question Classification"
      ],
      "metadata": {
        "id": "k2ek0do_PtHq"
      }
    },
    {
      "cell_type": "code",
      "source": [
        "\n",
        "## Create Dictionary {category:[keywords]}\n",
        "dic_clusters = {}\n",
        "dic_clusters[\"PLACE\"] = ['what', 'culture', 'this', 'place', 'myth', 'fact', 'of', 'which', 'just', 'there', 'historical', 'in', 'life', 'modern', 'history', 'the', 'where', 'part', 'tradition', 'town', 'one', 'village', 'century', 'time', 'ancient', 'is', 'it', 'same', '.']\n",
        "dic_clusters[\"BEACH\"] = ['quiet', 'inland', 'sea', 'fish', 'water', 'surf', 'along', 'lagoon', 'pond', 'mud', 'swimming', 'waters', 'boat', 'coastal', 'shallow', 'shores', 'shoreline', 'beach', 'swim', 'shore', 'boats', 'washed', 'river', 'surface', 'seas', 'beaches', 'fishing', 'lake', 'coral', 'sand', 'ocean']\n",
        "dic_clusters[\"ACTIVITY\"] = ['walking', 'concert', 'riding', 'this', 'ride', 'rides', 'trip', 'coming', 'cycling', 'activities', 'events', 'bike', '.', 'event', 'day', 'festival', 'weekend', 'year', 'traveling', 'part', 'activity', 'festivals', 'trips', 'summer', 'tours', 'tour', 'same', 'during', 'touring']\n",
        "dic_clusters[\"TOURIST_ATTRACTION\"] = ['monument', 'church', 'famous', 'historical', 'attractions', 'temple', 'cathedral', 'monastery', 'historic', 'near', 'site', 'built', 'volcano', 'ruins', 'castle', 'museum', 'situated', 'archaeological', 'town', 'village', 'nearby', 'century', 'palace', 'attraction', 'medieval', 'heritage', 'ancient', 'located', 'chapel', 'park', 'preserved']\n",
        "dic_clusters[\"LOCAL_FOOD_DRINK\"] = ['restaurants', 'dish', 'snacks', 'foods', 'drink', 'drinks', 'meat', 'bread', 'dessert', 'beer', 'cooked', 'traditional', 'cooking', 'eating', 'taste', 'meals', 'fruits', 'cuisine', 'food', 'eaten', 'ingredients', 'coffee', 'fruit', 'vegetable', 'seafood', 'chicken', 'eat', 'meal', 'dishes', 'vegetables', 'wine', 'ate']\n",
        "dic_clusters[\"NOTABLE_PERSON\"] = ['woman', 'father', 'named', 'brother', 'married', 'names', 'notable', 'famous', 'death', 'whose', 'person', 'whom', 'only', 'known', 'as', 'lived', 'who', 'although', 'name', 'one', 'son', 'born', 'mother', '—', 'daughter', 'may', 'man', 'died', 'same', ',']\n",
        "dic_clusters[\"CLIMATE\"] = ['rainfall', 'dry', 'winter', 'precipitation', 'weather', 'month', 'change', 'storms', 'rains', 'temperatures', 'warmer', 'temperature', 'cold', 'warming', 'wind', 'humidity', 'warm', 'humid', 'rain', 'day', 'winds', 'snow', 'forecast', 'expected', 'due', 'climate', 'days', 'conditions', 'cooler', 'rainy']\n",
        "dic_clusters[\"HEALTHCARE\"] = ['nurse', 'emergency', 'ambulance', 'doctor', 'physicians', 'veterinary', 'hospitals', 'medicine', 'dental', 'nurses', 'nursing', 'dr.', 'pediatric', 'medical', 'doctors', 'patient', 'services', 'treatment', 'healthcare', 'surgery', 'patients', 'outpatient', 'health', 'hospital', 'care', 'physician', 'psychiatric', 'surgical', 'clinic', 'clinical']\n",
        "dic_clusters[\"INFORMATION\"] = ['information', 'means', 'provides', 'useful', 'can', 'without', 'use', 'provided', 'certain', 'data', 'these', 'access', 'knowledge', 'you', 'using', 'allows', 'example', 'providing', 'instance', 'need', 'available', 'driving', 'atm', 'rent', 'provide', 'specific', 'money', 'required', 'rather', 'how', 'any']\n",
        "\n",
        "## print some\n",
        "for k,v in dic_clusters.items():\n",
        "    print(k, \": \", v[0:len(v)], \"...\", len(v))\n"
      ],
      "metadata": {
        "id": "cxpcu8RnxpsM",
        "colab": {
          "base_uri": "https://localhost:8080/"
        },
        "outputId": "9a92ca62-5c7b-449b-a99f-13d8cc23fe01"
      },
      "execution_count": 3,
      "outputs": [
        {
          "output_type": "stream",
          "name": "stdout",
          "text": [
            "PLACE :  ['what', 'culture', 'this', 'place', 'myth', 'fact', 'of', 'which', 'just', 'there', 'historical', 'in', 'life', 'modern', 'history', 'the', 'where', 'part', 'tradition', 'town', 'one', 'village', 'century', 'time', 'ancient', 'is', 'it', 'same', '.'] ... 29\n",
            "BEACH :  ['quiet', 'inland', 'sea', 'fish', 'water', 'surf', 'along', 'lagoon', 'pond', 'mud', 'swimming', 'waters', 'boat', 'coastal', 'shallow', 'shores', 'shoreline', 'beach', 'swim', 'shore', 'boats', 'washed', 'river', 'surface', 'seas', 'beaches', 'fishing', 'lake', 'coral', 'sand', 'ocean'] ... 31\n",
            "ACTIVITY :  ['walking', 'concert', 'riding', 'this', 'ride', 'rides', 'trip', 'coming', 'cycling', 'activities', 'events', 'bike', '.', 'event', 'day', 'festival', 'weekend', 'year', 'traveling', 'part', 'activity', 'festivals', 'trips', 'summer', 'tours', 'tour', 'same', 'during', 'touring'] ... 29\n",
            "TOURIST_ATTRACTION :  ['monument', 'church', 'famous', 'historical', 'attractions', 'temple', 'cathedral', 'monastery', 'historic', 'near', 'site', 'built', 'volcano', 'ruins', 'castle', 'museum', 'situated', 'archaeological', 'town', 'village', 'nearby', 'century', 'palace', 'attraction', 'medieval', 'heritage', 'ancient', 'located', 'chapel', 'park', 'preserved'] ... 31\n",
            "LOCAL_FOOD_DRINK :  ['restaurants', 'dish', 'snacks', 'foods', 'drink', 'drinks', 'meat', 'bread', 'dessert', 'beer', 'cooked', 'traditional', 'cooking', 'eating', 'taste', 'meals', 'fruits', 'cuisine', 'food', 'eaten', 'ingredients', 'coffee', 'fruit', 'vegetable', 'seafood', 'chicken', 'eat', 'meal', 'dishes', 'vegetables', 'wine', 'ate'] ... 32\n",
            "NOTABLE_PERSON :  ['woman', 'father', 'named', 'brother', 'married', 'names', 'notable', 'famous', 'death', 'whose', 'person', 'whom', 'only', 'known', 'as', 'lived', 'who', 'although', 'name', 'one', 'son', 'born', 'mother', '—', 'daughter', 'may', 'man', 'died', 'same', ','] ... 30\n",
            "CLIMATE :  ['rainfall', 'dry', 'winter', 'precipitation', 'weather', 'month', 'change', 'storms', 'rains', 'temperatures', 'warmer', 'temperature', 'cold', 'warming', 'wind', 'humidity', 'warm', 'humid', 'rain', 'day', 'winds', 'snow', 'forecast', 'expected', 'due', 'climate', 'days', 'conditions', 'cooler', 'rainy'] ... 30\n",
            "HEALTHCARE :  ['nurse', 'emergency', 'ambulance', 'doctor', 'physicians', 'veterinary', 'hospitals', 'medicine', 'dental', 'nurses', 'nursing', 'dr.', 'pediatric', 'medical', 'doctors', 'patient', 'services', 'treatment', 'healthcare', 'surgery', 'patients', 'outpatient', 'health', 'hospital', 'care', 'physician', 'psychiatric', 'surgical', 'clinic', 'clinical'] ... 30\n",
            "INFORMATION :  ['information', 'means', 'provides', 'useful', 'can', 'without', 'use', 'provided', 'certain', 'data', 'these', 'access', 'knowledge', 'you', 'using', 'allows', 'example', 'providing', 'instance', 'need', 'available', 'driving', 'atm', 'rent', 'provide', 'specific', 'money', 'required', 'rather', 'how', 'any'] ... 31\n"
          ]
        }
      ]
    },
    {
      "cell_type": "code",
      "source": [
        "#Removing Punctuation, Null entries and stopwords\n",
        "\n",
        "def Cleaning_1_1(dic_clusters):\n",
        "\n",
        "  lst_stopwords = nltk.corpus.stopwords.words(\"english\")\n",
        "\n",
        "  for k,v in dic_clusters.items():\n",
        "    for word in v:\n",
        "      if len(word)<=2:\n",
        "        v.remove(word)\n",
        "\n",
        "    for i in lst_stopwords:\n",
        "      if i in v:\n",
        "        v.remove(i)\n",
        "\n",
        "    new_list = v\n",
        "    dic_clusters.update({k: list(filter(None, new_list))})\n",
        "\n",
        "  return dic_clusters"
      ],
      "metadata": {
        "id": "ewbLzv9_vMEp"
      },
      "execution_count": 4,
      "outputs": []
    },
    {
      "cell_type": "code",
      "source": [
        "#Removing duplicates between the dictionaries\n",
        "\n",
        "def Cleaning_1_2(dic_clusters):\n",
        "  seen = set()\n",
        "  repeated = set()\n",
        "  new_list=[]\n",
        "\n",
        "  for k,v in dic_clusters.items():\n",
        "    for i in set(v):\n",
        "      if i in seen:\n",
        "        repeated.add(i)\n",
        "      else:\n",
        "        seen.add(i) \n",
        "    \n",
        "  for i in repeated:\n",
        "    x=0\n",
        "    for k,v in dic_clusters.items():\n",
        "      new_list2 = v\n",
        "      if i in v:\n",
        "        x=x+1\n",
        "        if x>1:\n",
        "          new_list2.remove(i)\n",
        "     \n",
        "      dic_clusters.update({k: new_list2})\n"
      ],
      "metadata": {
        "id": "Ndo0tD_1vNHY"
      },
      "execution_count": 5,
      "outputs": []
    },
    {
      "cell_type": "code",
      "source": [
        "Cleaning_1_1(dic_clusters)\n",
        "Cleaning_1_2(dic_clusters)\n",
        "\n",
        "for k,v in dic_clusters.items():\n",
        "    print(k, \": \", v[0:len(v)], \"...\", len(v))"
      ],
      "metadata": {
        "id": "XJ_hBJFkvPbp",
        "colab": {
          "base_uri": "https://localhost:8080/"
        },
        "outputId": "b623bde4-b7dc-410d-ebc4-9294c3d1cf3a"
      },
      "execution_count": 6,
      "outputs": [
        {
          "output_type": "stream",
          "name": "stdout",
          "text": [
            "PLACE :  ['culture', 'place', 'myth', 'fact', 'historical', 'life', 'modern', 'history', 'part', 'tradition', 'town', 'one', 'village', 'century', 'time', 'ancient'] ... 16\n",
            "BEACH :  ['quiet', 'inland', 'sea', 'fish', 'water', 'surf', 'along', 'lagoon', 'pond', 'mud', 'swimming', 'waters', 'boat', 'coastal', 'shallow', 'shores', 'shoreline', 'beach', 'swim', 'shore', 'boats', 'washed', 'river', 'surface', 'seas', 'beaches', 'fishing', 'lake', 'coral', 'sand', 'ocean'] ... 31\n",
            "ACTIVITY :  ['walking', 'concert', 'riding', 'ride', 'rides', 'trip', 'coming', 'cycling', 'activities', 'events', 'bike', 'event', 'day', 'festival', 'weekend', 'year', 'traveling', 'activity', 'festivals', 'trips', 'summer', 'tours', 'tour', 'touring'] ... 24\n",
            "TOURIST_ATTRACTION :  ['monument', 'church', 'famous', 'attractions', 'temple', 'cathedral', 'monastery', 'historic', 'near', 'site', 'built', 'volcano', 'ruins', 'castle', 'museum', 'situated', 'archaeological', 'nearby', 'palace', 'attraction', 'medieval', 'heritage', 'located', 'chapel', 'park', 'preserved'] ... 26\n",
            "LOCAL_FOOD_DRINK :  ['restaurants', 'dish', 'snacks', 'foods', 'drink', 'drinks', 'meat', 'bread', 'dessert', 'beer', 'cooked', 'traditional', 'cooking', 'eating', 'taste', 'meals', 'fruits', 'cuisine', 'food', 'eaten', 'ingredients', 'coffee', 'fruit', 'vegetable', 'seafood', 'chicken', 'eat', 'meal', 'dishes', 'vegetables', 'wine', 'ate'] ... 32\n",
            "NOTABLE_PERSON :  ['woman', 'father', 'named', 'brother', 'married', 'names', 'notable', 'death', 'whose', 'person', 'known', 'lived', 'although', 'name', 'son', 'born', 'mother', 'daughter', 'may', 'man', 'died'] ... 21\n",
            "CLIMATE :  ['rainfall', 'dry', 'winter', 'precipitation', 'weather', 'month', 'change', 'storms', 'rains', 'temperatures', 'warmer', 'temperature', 'cold', 'warming', 'wind', 'humidity', 'warm', 'humid', 'rain', 'winds', 'snow', 'forecast', 'expected', 'due', 'climate', 'days', 'conditions', 'cooler', 'rainy'] ... 29\n",
            "HEALTHCARE :  ['nurse', 'emergency', 'ambulance', 'doctor', 'physicians', 'veterinary', 'hospitals', 'medicine', 'dental', 'nurses', 'nursing', 'dr.', 'pediatric', 'medical', 'doctors', 'patient', 'services', 'treatment', 'healthcare', 'surgery', 'patients', 'outpatient', 'health', 'hospital', 'care', 'physician', 'psychiatric', 'surgical', 'clinic', 'clinical'] ... 30\n",
            "INFORMATION :  ['information', 'means', 'provides', 'useful', 'without', 'use', 'provided', 'certain', 'data', 'access', 'knowledge', 'using', 'allows', 'example', 'providing', 'instance', 'need', 'available', 'driving', 'atm', 'rent', 'provide', 'specific', 'money', 'required', 'rather'] ... 26\n"
          ]
        }
      ]
    },
    {
      "cell_type": "code",
      "source": [
        "#preprocessing and cleaning method\n",
        "\n",
        "'''\n",
        "Preprocess a string.\n",
        ":parameter\n",
        "    :param text: string - name of column containing text\n",
        "    :param lst_stopwords: list - list of stopwords to remove\n",
        "    :param flg_stemm: bool - whether stemming is to be applied\n",
        "    :param flg_lemm: bool - whether lemmitisation is to be applied\n",
        ":return\n",
        "    cleaned text\n",
        "'''\n",
        "def utils_preprocess_text(text, flg_stemm=False, flg_lemm=True, lst_stopwords=None):\n",
        "    ## clean (convert to lowercase and remove punctuations and characters and then strip)\n",
        "    text = re.sub(r'[^\\w\\s]', '', str(text).lower().strip())\n",
        "            \n",
        "    ## Tokenize (convert from string to list)\n",
        "    lst_text = text.split()    \n",
        "    ## remove Stopwords\n",
        "    if lst_stopwords is not None:\n",
        "        lst_text = [word for word in lst_text if word not in \n",
        "                    lst_stopwords]\n",
        "                \n",
        "    ## Stemming (remove -ing, -ly, ...)\n",
        "    if flg_stemm == True:\n",
        "        ps = nltk.stem.porter.PorterStemmer()\n",
        "        lst_text = [ps.stem(word) for word in lst_text]\n",
        "                \n",
        "    ## Lemmatisation (convert the word into root word)\n",
        "    if flg_lemm == True:\n",
        "        lem = nltk.stem.wordnet.WordNetLemmatizer()\n",
        "        lst_text = [lem.lemmatize(word) for word in lst_text]\n",
        "            \n",
        "    ## back to string from list\n",
        "    text = \" \".join(lst_text)\n",
        "    return text"
      ],
      "metadata": {
        "id": "V7C5LXi5vYxZ"
      },
      "execution_count": 7,
      "outputs": []
    },
    {
      "cell_type": "code",
      "source": [
        "lst_stopwords = nltk.corpus.stopwords.words(\"english\")\n",
        "#print(lst_stopwords)\n",
        "\n",
        "Clean_q = utils_preprocess_text(Question, flg_stemm=False, flg_lemm=True, lst_stopwords=lst_stopwords)"
      ],
      "metadata": {
        "id": "GwoiCg54ve0Z"
      },
      "execution_count": 8,
      "outputs": []
    },
    {
      "cell_type": "code",
      "source": [
        "tokenizer = transformers.BertTokenizer.from_pretrained('bert-base-uncased', do_lower_case=True)\n",
        "nlp = transformers.TFBertModel.from_pretrained('bert-base-uncased')"
      ],
      "metadata": {
        "id": "cZFYad92wiD0",
        "colab": {
          "base_uri": "https://localhost:8080/"
        },
        "outputId": "0c6d016e-cd0f-46d4-af67-25dce432c16a"
      },
      "execution_count": 9,
      "outputs": [
        {
          "output_type": "stream",
          "name": "stderr",
          "text": [
            "Some layers from the model checkpoint at bert-base-uncased were not used when initializing TFBertModel: ['nsp___cls', 'mlm___cls']\n",
            "- This IS expected if you are initializing TFBertModel from the checkpoint of a model trained on another task or with another architecture (e.g. initializing a BertForSequenceClassification model from a BertForPreTraining model).\n",
            "- This IS NOT expected if you are initializing TFBertModel from the checkpoint of a model that you expect to be exactly identical (initializing a BertForSequenceClassification model from a BertForSequenceClassification model).\n",
            "All the layers of TFBertModel were initialized from the model checkpoint at bert-base-uncased.\n",
            "If your task is similar to the task the model of the checkpoint was trained on, you can already use TFBertModel for predictions without further training.\n"
          ]
        }
      ]
    },
    {
      "cell_type": "code",
      "source": [
        "## function to apply\n",
        "def utils_bert_embedding(txt, tokenizer, nlp):\n",
        "    idx = tokenizer.encode(txt)\n",
        "    idx = np.array(idx)[None,:]  \n",
        "    embedding = nlp(idx)\n",
        "    X = np.array(embedding[0][0][1:-1])\n",
        "    return X\n",
        "\n",
        "\n",
        "lst_mean_vecs = utils_bert_embedding(Clean_q, tokenizer, nlp).mean(0) \n",
        "\n",
        "X = np.array(lst_mean_vecs)"
      ],
      "metadata": {
        "id": "pMzPbmDNwm7B"
      },
      "execution_count": 10,
      "outputs": []
    },
    {
      "cell_type": "code",
      "source": [
        "dic_y = {k:utils_bert_embedding(v, tokenizer, nlp).mean(0) for k,v\n",
        "         in dic_clusters.items()}"
      ],
      "metadata": {
        "id": "76sOJCi9w084"
      },
      "execution_count": 11,
      "outputs": []
    },
    {
      "cell_type": "code",
      "source": [
        "#--- Model Algorithm ---#\n",
        "## compute cosine similarities\n",
        "similarities_q = np.array(\n",
        "            [metrics.pairwise.cosine_similarity(X.reshape(1, -1), y.reshape(1, -1)).T.tolist()[0] \n",
        "             for y in dic_y.values()]\n",
        "            ).T\n",
        "#print(similarities)     \n",
        "\n",
        "## adjust and rescale\n",
        "labels = list(dic_y.keys())\n",
        "for i in range(len(similarities_q)):\n",
        "    ### assign randomly if there is no similarity\n",
        "    if sum(similarities_q[i]) == 0:\n",
        "       similarities_q[i] = [0]*len(labels)\n",
        "       similarities_q[i][np.random.choice(range(len(labels)))] = 1\n",
        "    ### rescale so they sum = 1\n",
        "    similarities_q[i] = similarities_q[i] / sum(similarities_q[i])\n",
        "\n",
        "## classify the label with highest similarity score\n",
        "predicted_prob_q = similarities_q\n",
        "predicted_q = [labels[np.argmax(pred)] for pred in predicted_prob_q]\n",
        "\n",
        "print(predicted_q)"
      ],
      "metadata": {
        "id": "jLx5GEPwy8xI",
        "colab": {
          "base_uri": "https://localhost:8080/"
        },
        "outputId": "cdaf3a41-2095-47b5-f5b0-cb174d732048"
      },
      "execution_count": 12,
      "outputs": [
        {
          "output_type": "stream",
          "name": "stdout",
          "text": [
            "['PLACE']\n"
          ]
        }
      ]
    },
    {
      "cell_type": "markdown",
      "source": [
        "# Template Matching"
      ],
      "metadata": {
        "id": "d9z9aIlQ4Xer"
      }
    },
    {
      "cell_type": "code",
      "source": [
        "templates = pd.read_csv(predicted_q[0] + \".csv\", sep='|', engine='python')\n",
        "templates.head()"
      ],
      "metadata": {
        "id": "-ayEuFkXJaBu",
        "colab": {
          "base_uri": "https://localhost:8080/",
          "height": 206
        },
        "outputId": "80e63c6e-1184-4d08-d3ca-c2d8f6ea8c95"
      },
      "execution_count": 13,
      "outputs": [
        {
          "output_type": "execute_result",
          "data": {
            "text/plain": [
              "                           Template  \\\n",
              "0     Historical Info about <Place>   \n",
              "1             Villages in Santorini   \n",
              "2  What is Santorini also known as?   \n",
              "3               Myths about <Place>   \n",
              "4  How can I get around in <Place>?   \n",
              "\n",
              "                                              Cypher  \n",
              "0  MATCH (p) WHERE p.ns0__name = \"<Place>\" RETURN...  \n",
              "1  MATCH (start{ns0__name:\"Santorini\"})-[r:ns0__c...  \n",
              "2  MATCH (start{ns0__name:\"Santorini\"})-[r:ns1__A...  \n",
              "3  MATCH (start{ns0__name:\"<Place>\"})-[r:ns1__Myt...  \n",
              "4  MATCH (start{ns0__name:\"<Place>\"})-[r:ns1__Get...  "
            ],
            "text/html": [
              "\n",
              "  <div id=\"df-b9d68ffb-1284-46e1-a163-9eda910da1f8\">\n",
              "    <div class=\"colab-df-container\">\n",
              "      <div>\n",
              "<style scoped>\n",
              "    .dataframe tbody tr th:only-of-type {\n",
              "        vertical-align: middle;\n",
              "    }\n",
              "\n",
              "    .dataframe tbody tr th {\n",
              "        vertical-align: top;\n",
              "    }\n",
              "\n",
              "    .dataframe thead th {\n",
              "        text-align: right;\n",
              "    }\n",
              "</style>\n",
              "<table border=\"1\" class=\"dataframe\">\n",
              "  <thead>\n",
              "    <tr style=\"text-align: right;\">\n",
              "      <th></th>\n",
              "      <th>Template</th>\n",
              "      <th>Cypher</th>\n",
              "    </tr>\n",
              "  </thead>\n",
              "  <tbody>\n",
              "    <tr>\n",
              "      <th>0</th>\n",
              "      <td>Historical Info about &lt;Place&gt;</td>\n",
              "      <td>MATCH (p) WHERE p.ns0__name = \"&lt;Place&gt;\" RETURN...</td>\n",
              "    </tr>\n",
              "    <tr>\n",
              "      <th>1</th>\n",
              "      <td>Villages in Santorini</td>\n",
              "      <td>MATCH (start{ns0__name:\"Santorini\"})-[r:ns0__c...</td>\n",
              "    </tr>\n",
              "    <tr>\n",
              "      <th>2</th>\n",
              "      <td>What is Santorini also known as?</td>\n",
              "      <td>MATCH (start{ns0__name:\"Santorini\"})-[r:ns1__A...</td>\n",
              "    </tr>\n",
              "    <tr>\n",
              "      <th>3</th>\n",
              "      <td>Myths about &lt;Place&gt;</td>\n",
              "      <td>MATCH (start{ns0__name:\"&lt;Place&gt;\"})-[r:ns1__Myt...</td>\n",
              "    </tr>\n",
              "    <tr>\n",
              "      <th>4</th>\n",
              "      <td>How can I get around in &lt;Place&gt;?</td>\n",
              "      <td>MATCH (start{ns0__name:\"&lt;Place&gt;\"})-[r:ns1__Get...</td>\n",
              "    </tr>\n",
              "  </tbody>\n",
              "</table>\n",
              "</div>\n",
              "      <button class=\"colab-df-convert\" onclick=\"convertToInteractive('df-b9d68ffb-1284-46e1-a163-9eda910da1f8')\"\n",
              "              title=\"Convert this dataframe to an interactive table.\"\n",
              "              style=\"display:none;\">\n",
              "        \n",
              "  <svg xmlns=\"http://www.w3.org/2000/svg\" height=\"24px\"viewBox=\"0 0 24 24\"\n",
              "       width=\"24px\">\n",
              "    <path d=\"M0 0h24v24H0V0z\" fill=\"none\"/>\n",
              "    <path d=\"M18.56 5.44l.94 2.06.94-2.06 2.06-.94-2.06-.94-.94-2.06-.94 2.06-2.06.94zm-11 1L8.5 8.5l.94-2.06 2.06-.94-2.06-.94L8.5 2.5l-.94 2.06-2.06.94zm10 10l.94 2.06.94-2.06 2.06-.94-2.06-.94-.94-2.06-.94 2.06-2.06.94z\"/><path d=\"M17.41 7.96l-1.37-1.37c-.4-.4-.92-.59-1.43-.59-.52 0-1.04.2-1.43.59L10.3 9.45l-7.72 7.72c-.78.78-.78 2.05 0 2.83L4 21.41c.39.39.9.59 1.41.59.51 0 1.02-.2 1.41-.59l7.78-7.78 2.81-2.81c.8-.78.8-2.07 0-2.86zM5.41 20L4 18.59l7.72-7.72 1.47 1.35L5.41 20z\"/>\n",
              "  </svg>\n",
              "      </button>\n",
              "      \n",
              "  <style>\n",
              "    .colab-df-container {\n",
              "      display:flex;\n",
              "      flex-wrap:wrap;\n",
              "      gap: 12px;\n",
              "    }\n",
              "\n",
              "    .colab-df-convert {\n",
              "      background-color: #E8F0FE;\n",
              "      border: none;\n",
              "      border-radius: 50%;\n",
              "      cursor: pointer;\n",
              "      display: none;\n",
              "      fill: #1967D2;\n",
              "      height: 32px;\n",
              "      padding: 0 0 0 0;\n",
              "      width: 32px;\n",
              "    }\n",
              "\n",
              "    .colab-df-convert:hover {\n",
              "      background-color: #E2EBFA;\n",
              "      box-shadow: 0px 1px 2px rgba(60, 64, 67, 0.3), 0px 1px 3px 1px rgba(60, 64, 67, 0.15);\n",
              "      fill: #174EA6;\n",
              "    }\n",
              "\n",
              "    [theme=dark] .colab-df-convert {\n",
              "      background-color: #3B4455;\n",
              "      fill: #D2E3FC;\n",
              "    }\n",
              "\n",
              "    [theme=dark] .colab-df-convert:hover {\n",
              "      background-color: #434B5C;\n",
              "      box-shadow: 0px 1px 3px 1px rgba(0, 0, 0, 0.15);\n",
              "      filter: drop-shadow(0px 1px 2px rgba(0, 0, 0, 0.3));\n",
              "      fill: #FFFFFF;\n",
              "    }\n",
              "  </style>\n",
              "\n",
              "      <script>\n",
              "        const buttonEl =\n",
              "          document.querySelector('#df-b9d68ffb-1284-46e1-a163-9eda910da1f8 button.colab-df-convert');\n",
              "        buttonEl.style.display =\n",
              "          google.colab.kernel.accessAllowed ? 'block' : 'none';\n",
              "\n",
              "        async function convertToInteractive(key) {\n",
              "          const element = document.querySelector('#df-b9d68ffb-1284-46e1-a163-9eda910da1f8');\n",
              "          const dataTable =\n",
              "            await google.colab.kernel.invokeFunction('convertToInteractive',\n",
              "                                                     [key], {});\n",
              "          if (!dataTable) return;\n",
              "\n",
              "          const docLinkHtml = 'Like what you see? Visit the ' +\n",
              "            '<a target=\"_blank\" href=https://colab.research.google.com/notebooks/data_table.ipynb>data table notebook</a>'\n",
              "            + ' to learn more about interactive tables.';\n",
              "          element.innerHTML = '';\n",
              "          dataTable['output_type'] = 'display_data';\n",
              "          await google.colab.output.renderOutput(dataTable, element);\n",
              "          const docLink = document.createElement('div');\n",
              "          docLink.innerHTML = docLinkHtml;\n",
              "          element.appendChild(docLink);\n",
              "        }\n",
              "      </script>\n",
              "    </div>\n",
              "  </div>\n",
              "  "
            ]
          },
          "metadata": {},
          "execution_count": 13
        }
      ]
    },
    {
      "cell_type": "code",
      "source": [
        "#preprocessing and cleaning method 1\n",
        "\n",
        "def utils_preprocess_text1(sentence):\n",
        "  #Remove any < > references\n",
        "  new_sentence = re.sub(\"<+[\\w]*>\", \"\", sentence)\n",
        "    \n",
        "  #Remove the word Santorini\n",
        "  new_sentence = new_sentence.replace(\"Santorini\", \"\")\n",
        "  new_sentence = new_sentence.replace(\"santorini\", \"\")\n",
        "  \n",
        "  return new_sentence"
      ],
      "metadata": {
        "id": "FdTeQF2e0sZU"
      },
      "execution_count": 15,
      "outputs": []
    },
    {
      "cell_type": "code",
      "source": [
        "#preprocessing and cleaning method 2\n",
        "\n",
        "'''\n",
        "Preprocess a string.\n",
        ":parameter\n",
        "    :param text: string - name of column containing text\n",
        "    :param lst_stopwords: list - list of stopwords to remove\n",
        "    :param flg_lemm: bool - whether lemmitisation is to be applied\n",
        ":return\n",
        "    cleaned text\n",
        "'''\n",
        "def utils_preprocess_text2(text, flg_lemm=True, lst_stopwords=None):\n",
        "    ## clean (convert to lowercase and remove punctuations and characters and then strip)\n",
        "    text = re.sub(r'[^\\w\\s]', '', str(text).lower().strip())\n",
        "            \n",
        "    ## Tokenize (convert from string to list)\n",
        "    lst_text = text.split()    \n",
        "    ## remove Stopwords\n",
        "    if lst_stopwords is not None:\n",
        "        lst_text = [word for word in lst_text if word not in \n",
        "                    lst_stopwords]\n",
        "                \n",
        "    ## Lemmatisation (convert the word into root word)\n",
        "    if flg_lemm == True:\n",
        "        lem = nltk.stem.wordnet.WordNetLemmatizer()\n",
        "        lst_text = [lem.lemmatize(word) for word in lst_text]\n",
        "            \n",
        "    ## back to string from list\n",
        "    text = \" \".join(lst_text)\n",
        "    return text"
      ],
      "metadata": {
        "id": "_HpaQlIm0tMA"
      },
      "execution_count": 16,
      "outputs": []
    },
    {
      "cell_type": "code",
      "source": [
        "#Πειραμα 2.1.5\n",
        "#Cleaning Templates with utils_preprocess_text1 + utils_preprocess_text2 AND Cleaning Question with utils_preprocess_text2\n",
        "\n",
        "lst_stopwords = nltk.corpus.stopwords.words(\"english\")\n",
        "index=0\n",
        "for sentence in templates[\"Template\"]:\n",
        "  sentence = utils_preprocess_text1(sentence)\n",
        "  templates.at[index,'Template_Clean3'] = utils_preprocess_text2(sentence, flg_lemm=True)\n",
        "\n",
        "  index=index+1\n",
        "\n",
        "Question_simil_clean= utils_preprocess_text2(Question, flg_lemm=True)\n"
      ],
      "metadata": {
        "id": "x4rpiGBl1Lth"
      },
      "execution_count": 17,
      "outputs": []
    },
    {
      "cell_type": "code",
      "source": [
        "model = SentenceTransformer('sentence-transformers/all-MiniLM-L12-v2')\n",
        "template_embeddings = model.encode(templates[\"Template_Clean3\"])\n",
        "question_embeddings = model.encode(Question_simil_clean)"
      ],
      "metadata": {
        "id": "twTjE3mL1giA"
      },
      "execution_count": 18,
      "outputs": []
    },
    {
      "cell_type": "code",
      "source": [
        "similarities2 = cosine_similarity(question_embeddings.reshape(1, -1), template_embeddings)\n",
        "\n",
        "#for every question we calculate how similar it is to each template\n",
        "print(similarities2)\n",
        "\n",
        "for i in range(len(similarities2)):\n",
        "    ### rescale so they sum = 1\n",
        "    similarities2[i] = similarities2[i] / sum(similarities2[i])\n",
        "\n",
        "## classify the label with highest similarity score\n",
        "predicted_prob = similarities2\n",
        "predicted = []\n",
        "second =[]\n",
        "\n",
        "for pred in predicted_prob:\n",
        "  x = np.argmax(pred)\n",
        "  predicted.append(\"T\" + str(x))\n",
        "  \n",
        "  \n",
        "  #getting the second biggest similarity\n",
        "  temp = np.copy(pred)\n",
        "  temp[x] = -1\n",
        "  x2=np.argmax(temp)\n",
        "  second.append(\"T\" + str(x2))\n",
        "\n"
      ],
      "metadata": {
        "id": "l4Vabj351sPM",
        "colab": {
          "base_uri": "https://localhost:8080/"
        },
        "outputId": "a193bf8f-8016-4639-b353-ac5dcfce0673"
      },
      "execution_count": 19,
      "outputs": [
        {
          "output_type": "stream",
          "name": "stdout",
          "text": [
            "[[0.12108386 0.3679518  0.08931907 0.07515872 0.2548027  0.09556055\n",
            "  0.87027556 0.518022  ]]\n"
          ]
        }
      ]
    },
    {
      "cell_type": "code",
      "source": [
        "#Cleaning Templates with utils_preprocess_text1 + utils_preprocess_text2 AND Cleaning Question with utils_preprocess_text2\n",
        "\n",
        "index=0\n",
        "for sentence in templates[\"Template\"]:\n",
        "  sentence = utils_preprocess_text1(sentence)\n",
        "  templates.at[index,'Template_Clean3'] = utils_preprocess_text2(sentence, flg_lemm=True, lst_stopwords=lst_stopwords)\n",
        "\n",
        "  index=index+1\n",
        "\n",
        "\n",
        "\n",
        "Question_ling_clean = utils_preprocess_text2(Question, flg_lemm=True, lst_stopwords=lst_stopwords)\n",
        " \n"
      ],
      "metadata": {
        "id": "zUaOeTpE_W7p"
      },
      "execution_count": 20,
      "outputs": []
    },
    {
      "cell_type": "code",
      "source": [
        "def Similarity_LinguisticApproach(question, templates):\n",
        "  score = []\n",
        "  for template in templates[\"Template_Clean3\"]:\n",
        "    sc=0\n",
        "    for word in question.split():\n",
        "      if word in template.split():\n",
        "        sc=sc+1\n",
        "    score.append(sc)\n",
        "\n",
        "  return score    "
      ],
      "metadata": {
        "id": "1IXOPzcJ_98w"
      },
      "execution_count": 21,
      "outputs": []
    },
    {
      "cell_type": "code",
      "source": [
        "scores = []\n",
        "scores = Similarity_LinguisticApproach(Question_ling_clean, templates)\n",
        "\n",
        "count=0\n",
        "for i in scores:\n",
        "  count=count+i\n",
        "\n",
        "if count==0:\n",
        "  scores.clear()\n"
      ],
      "metadata": {
        "id": "MjyDUEhgAAfx"
      },
      "execution_count": 22,
      "outputs": []
    },
    {
      "cell_type": "code",
      "source": [
        "predicted_prob = scores\n",
        "predicted2=[]\n",
        "\n",
        "if predicted_prob:\n",
        "  x = np.argmax(pred)\n",
        "  predicted2.append(\"T\" + str(x)) \n",
        "else:\n",
        "  predicted2.append(None)\n"
      ],
      "metadata": {
        "id": "isD7STu_AEsS"
      },
      "execution_count": 23,
      "outputs": []
    },
    {
      "cell_type": "code",
      "source": [
        "Final_predictions=[]\n",
        "\n",
        "i=0\n",
        "for p1, p2 in zip(predicted, predicted2):\n",
        "  if p2:\n",
        "    if p2==p1:\n",
        "      final_Pred = p1\n",
        "    elif p2==second[i]:\n",
        "      final_Pred = second[i]\n",
        "    else:\n",
        "      final_Pred = p2\n",
        "  else:\n",
        "    final_Pred = p1\n",
        "  \n",
        "  i=i+1\n",
        "  Final_predictions.append(final_Pred)\n",
        "\n",
        "\n",
        "print(\"Final Predictions\", Final_predictions)\n"
      ],
      "metadata": {
        "id": "GNk1sfU6AJPe",
        "colab": {
          "base_uri": "https://localhost:8080/"
        },
        "outputId": "f7ed1308-0b58-43a5-9c80-998a4ee1b2fa"
      },
      "execution_count": 24,
      "outputs": [
        {
          "output_type": "stream",
          "name": "stdout",
          "text": [
            "Final Predictions ['T6']\n"
          ]
        }
      ]
    },
    {
      "cell_type": "markdown",
      "source": [
        "#Answer Retrieval"
      ],
      "metadata": {
        "id": "OS49tnHtAOT7"
      }
    },
    {
      "cell_type": "code",
      "source": [
        "index=0\n",
        "for cyph_q in templates[\"Cypher\"]:\n",
        "  new_cyph_q = re.sub(\"<+[\\w]*>\", \"#\", cyph_q)\n",
        "  templates.at[index,'Cypher_Clean'] = new_cyph_q\n",
        "  index=index+1\n",
        "  \n",
        "templates[\"Cypher_Clean\"].head()"
      ],
      "metadata": {
        "id": "qG7vkSPQAQ8Q",
        "colab": {
          "base_uri": "https://localhost:8080/"
        },
        "outputId": "28c56349-21ae-4a02-aa21-94fadbe730ef"
      },
      "execution_count": 25,
      "outputs": [
        {
          "output_type": "execute_result",
          "data": {
            "text/plain": [
              "0    MATCH (p) WHERE p.ns0__name = \"#\" RETURN p.ns1...\n",
              "1    MATCH (start{ns0__name:\"Santorini\"})-[r:ns0__c...\n",
              "2    MATCH (start{ns0__name:\"Santorini\"})-[r:ns1__A...\n",
              "3    MATCH (start{ns0__name:\"#\"})-[r:ns1__Myths]->(...\n",
              "4    MATCH (start{ns0__name:\"#\"})-[r:ns1__Get_Aroun...\n",
              "Name: Cypher_Clean, dtype: object"
            ]
          },
          "metadata": {},
          "execution_count": 25
        }
      ]
    },
    {
      "cell_type": "code",
      "source": [
        "!pip install py2neo\n",
        "from py2neo import Graph\n",
        "\n",
        "graph = Graph(\"neo4j+s://b6c3be65.databases.neo4j.io\", auth=(\"neo4j\", \"santorinikg2023\"))"
      ],
      "metadata": {
        "id": "cfAOVO0iAU0x",
        "colab": {
          "base_uri": "https://localhost:8080/"
        },
        "outputId": "036e6325-77ab-430d-bcfb-119f26ee0cd3"
      },
      "execution_count": 26,
      "outputs": [
        {
          "output_type": "stream",
          "name": "stdout",
          "text": [
            "Looking in indexes: https://pypi.org/simple, https://us-python.pkg.dev/colab-wheels/public/simple/\n",
            "Requirement already satisfied: py2neo in /usr/local/lib/python3.8/dist-packages (2021.2.3)\n",
            "Requirement already satisfied: pansi>=2020.7.3 in /usr/local/lib/python3.8/dist-packages (from py2neo) (2020.7.3)\n",
            "Requirement already satisfied: urllib3 in /usr/local/lib/python3.8/dist-packages (from py2neo) (1.24.3)\n",
            "Requirement already satisfied: packaging in /usr/local/lib/python3.8/dist-packages (from py2neo) (23.0)\n",
            "Requirement already satisfied: certifi in /usr/local/lib/python3.8/dist-packages (from py2neo) (2022.12.7)\n",
            "Requirement already satisfied: pygments>=2.0.0 in /usr/local/lib/python3.8/dist-packages (from py2neo) (2.6.1)\n",
            "Requirement already satisfied: monotonic in /usr/local/lib/python3.8/dist-packages (from py2neo) (1.6)\n",
            "Requirement already satisfied: six>=1.15.0 in /usr/local/lib/python3.8/dist-packages (from py2neo) (1.15.0)\n",
            "Requirement already satisfied: interchange~=2021.0.4 in /usr/local/lib/python3.8/dist-packages (from py2neo) (2021.0.4)\n",
            "Requirement already satisfied: pytz in /usr/local/lib/python3.8/dist-packages (from interchange~=2021.0.4->py2neo) (2022.7.1)\n"
          ]
        }
      ]
    },
    {
      "cell_type": "code",
      "source": [
        "def answer_Retrieval(Final_predictions, Question, templates):\n",
        "  for p in Final_predictions:\n",
        "    #fetching the appropriate template\n",
        "    template_index = int(p[1])\n",
        "    cypher_query = templates[\"Cypher_Clean\"].iloc[template_index]\n",
        "\n",
        "    if cypher_query.count(\"#\") > 0:\n",
        "      cypher_query = QA_NER(Question, cypher_query)\n",
        "    \n",
        "    answer = graph.run(cypher_query).to_data_frame()\n",
        "  \n",
        "  return answer"
      ],
      "metadata": {
        "id": "CrlG5Z6o4SPc"
      },
      "execution_count": 27,
      "outputs": []
    },
    {
      "cell_type": "code",
      "source": [
        "def QA_NER(Question, cypher_query):\n",
        "  NER = spacy.load(\"en_core_web_sm\")\n",
        "  \n",
        "  #Truecasing the questions in order to apply NER method \n",
        "  n = truecase.get_true_case(Question)\n",
        "  #Using NER to find the key entity that is required in the cypher query\n",
        "  entities = NER(n)\n",
        "\n",
        "  if cypher_query.count(\"#\") == 1:\n",
        "    for word in entities.ents:\n",
        "      cypher_query = cypher_query.replace(\"#\", str(word))\n",
        "    \n",
        "  elif cypher_query.count(\"#\") == entities.ents.count:\n",
        "    indexes = [x.start() for x in re.finditer('\\#', cypher_query)]\n",
        "        \n",
        "    for i, word in zip(indexes, entities.ents):\n",
        "      cypher_query = cypher_query[:i] + str(word) + cypher_query[i+1:] \n",
        "        \n",
        "  return cypher_query"
      ],
      "metadata": {
        "id": "c3Tx2zUK4bxQ"
      },
      "execution_count": 28,
      "outputs": []
    },
    {
      "cell_type": "code",
      "source": [
        "print(\"\\nQuestion: \", Question)\n",
        "answer = answer_Retrieval(Final_predictions, Question, templates)\n",
        "print(\"Answer: \")\n",
        "display(answer)\n"
      ],
      "metadata": {
        "id": "gUX26rPpTI8q",
        "colab": {
          "base_uri": "https://localhost:8080/",
          "height": 133
        },
        "outputId": "33b4e251-5c3d-4373-e73b-b301f3bcb8fd"
      },
      "execution_count": 29,
      "outputs": [
        {
          "output_type": "stream",
          "name": "stdout",
          "text": [
            "\n",
            "Question:  What are some places for families to visit\n",
            "Answer: \n"
          ]
        },
        {
          "output_type": "display_data",
          "data": {
            "text/plain": [
              "      Entity            Relation Entity2_Name\n",
              "0  Santorini  ns0__containsPlace       Kamari"
            ],
            "text/html": [
              "\n",
              "  <div id=\"df-6b26dc32-d423-405d-8f45-33005cf9d523\">\n",
              "    <div class=\"colab-df-container\">\n",
              "      <div>\n",
              "<style scoped>\n",
              "    .dataframe tbody tr th:only-of-type {\n",
              "        vertical-align: middle;\n",
              "    }\n",
              "\n",
              "    .dataframe tbody tr th {\n",
              "        vertical-align: top;\n",
              "    }\n",
              "\n",
              "    .dataframe thead th {\n",
              "        text-align: right;\n",
              "    }\n",
              "</style>\n",
              "<table border=\"1\" class=\"dataframe\">\n",
              "  <thead>\n",
              "    <tr style=\"text-align: right;\">\n",
              "      <th></th>\n",
              "      <th>Entity</th>\n",
              "      <th>Relation</th>\n",
              "      <th>Entity2_Name</th>\n",
              "    </tr>\n",
              "  </thead>\n",
              "  <tbody>\n",
              "    <tr>\n",
              "      <th>0</th>\n",
              "      <td>Santorini</td>\n",
              "      <td>ns0__containsPlace</td>\n",
              "      <td>Kamari</td>\n",
              "    </tr>\n",
              "  </tbody>\n",
              "</table>\n",
              "</div>\n",
              "      <button class=\"colab-df-convert\" onclick=\"convertToInteractive('df-6b26dc32-d423-405d-8f45-33005cf9d523')\"\n",
              "              title=\"Convert this dataframe to an interactive table.\"\n",
              "              style=\"display:none;\">\n",
              "        \n",
              "  <svg xmlns=\"http://www.w3.org/2000/svg\" height=\"24px\"viewBox=\"0 0 24 24\"\n",
              "       width=\"24px\">\n",
              "    <path d=\"M0 0h24v24H0V0z\" fill=\"none\"/>\n",
              "    <path d=\"M18.56 5.44l.94 2.06.94-2.06 2.06-.94-2.06-.94-.94-2.06-.94 2.06-2.06.94zm-11 1L8.5 8.5l.94-2.06 2.06-.94-2.06-.94L8.5 2.5l-.94 2.06-2.06.94zm10 10l.94 2.06.94-2.06 2.06-.94-2.06-.94-.94-2.06-.94 2.06-2.06.94z\"/><path d=\"M17.41 7.96l-1.37-1.37c-.4-.4-.92-.59-1.43-.59-.52 0-1.04.2-1.43.59L10.3 9.45l-7.72 7.72c-.78.78-.78 2.05 0 2.83L4 21.41c.39.39.9.59 1.41.59.51 0 1.02-.2 1.41-.59l7.78-7.78 2.81-2.81c.8-.78.8-2.07 0-2.86zM5.41 20L4 18.59l7.72-7.72 1.47 1.35L5.41 20z\"/>\n",
              "  </svg>\n",
              "      </button>\n",
              "      \n",
              "  <style>\n",
              "    .colab-df-container {\n",
              "      display:flex;\n",
              "      flex-wrap:wrap;\n",
              "      gap: 12px;\n",
              "    }\n",
              "\n",
              "    .colab-df-convert {\n",
              "      background-color: #E8F0FE;\n",
              "      border: none;\n",
              "      border-radius: 50%;\n",
              "      cursor: pointer;\n",
              "      display: none;\n",
              "      fill: #1967D2;\n",
              "      height: 32px;\n",
              "      padding: 0 0 0 0;\n",
              "      width: 32px;\n",
              "    }\n",
              "\n",
              "    .colab-df-convert:hover {\n",
              "      background-color: #E2EBFA;\n",
              "      box-shadow: 0px 1px 2px rgba(60, 64, 67, 0.3), 0px 1px 3px 1px rgba(60, 64, 67, 0.15);\n",
              "      fill: #174EA6;\n",
              "    }\n",
              "\n",
              "    [theme=dark] .colab-df-convert {\n",
              "      background-color: #3B4455;\n",
              "      fill: #D2E3FC;\n",
              "    }\n",
              "\n",
              "    [theme=dark] .colab-df-convert:hover {\n",
              "      background-color: #434B5C;\n",
              "      box-shadow: 0px 1px 3px 1px rgba(0, 0, 0, 0.15);\n",
              "      filter: drop-shadow(0px 1px 2px rgba(0, 0, 0, 0.3));\n",
              "      fill: #FFFFFF;\n",
              "    }\n",
              "  </style>\n",
              "\n",
              "      <script>\n",
              "        const buttonEl =\n",
              "          document.querySelector('#df-6b26dc32-d423-405d-8f45-33005cf9d523 button.colab-df-convert');\n",
              "        buttonEl.style.display =\n",
              "          google.colab.kernel.accessAllowed ? 'block' : 'none';\n",
              "\n",
              "        async function convertToInteractive(key) {\n",
              "          const element = document.querySelector('#df-6b26dc32-d423-405d-8f45-33005cf9d523');\n",
              "          const dataTable =\n",
              "            await google.colab.kernel.invokeFunction('convertToInteractive',\n",
              "                                                     [key], {});\n",
              "          if (!dataTable) return;\n",
              "\n",
              "          const docLinkHtml = 'Like what you see? Visit the ' +\n",
              "            '<a target=\"_blank\" href=https://colab.research.google.com/notebooks/data_table.ipynb>data table notebook</a>'\n",
              "            + ' to learn more about interactive tables.';\n",
              "          element.innerHTML = '';\n",
              "          dataTable['output_type'] = 'display_data';\n",
              "          await google.colab.output.renderOutput(dataTable, element);\n",
              "          const docLink = document.createElement('div');\n",
              "          docLink.innerHTML = docLinkHtml;\n",
              "          element.appendChild(docLink);\n",
              "        }\n",
              "      </script>\n",
              "    </div>\n",
              "  </div>\n",
              "  "
            ]
          },
          "metadata": {}
        }
      ]
    },
    {
      "cell_type": "code",
      "source": [
        "def recommendation_retrieval(Final_predictions, previous_question, templates):\n",
        "  for p in Final_predictions:\n",
        "    #fetching the appropriate template\n",
        "    template_index = int(p[1])\n",
        "    cypher_query = templates[\"Cypher_Clean\"].iloc[template_index]\n",
        "\n",
        "    NER = spacy.load(\"en_core_web_sm\")\n",
        "    n = truecase.get_true_case(previous_question)\n",
        "    #Using NER to find the key entity that is required in the cypher query\n",
        "    entities = NER(n)\n",
        "\n",
        "    if cypher_query.count(\"#\") > 0:\n",
        "      for word in entities.ents:\n",
        "        cypher_query = cypher_query.replace(\"#\", str(word))\n",
        "      #print(cypher_query)    \n",
        "\n",
        "    answer = graph.run(cypher_query).to_data_frame()\n",
        "  \n",
        "  return answer"
      ],
      "metadata": {
        "id": "P8Aox6leUAJa"
      },
      "execution_count": 30,
      "outputs": []
    },
    {
      "cell_type": "markdown",
      "source": [
        "# Recommendations"
      ],
      "metadata": {
        "id": "NF7nAshPCoco"
      }
    },
    {
      "cell_type": "code",
      "source": [
        "if Final_predictions != second:\n",
        "  #fetching the appropriate template\n",
        "  template_index = int(second[0][1])\n",
        "  nl = templates[\"Template\"].iloc[template_index]\n",
        "  \n",
        "  print(\"Would you like to know more about: \", nl)\n",
        "\n",
        "  input1 = input(\"Type YES/NO to continue: \")\n",
        "  if input1.upper() == \"YES\":\n",
        "    try:\n",
        "      answer2 = recommendation_retrieval(second, Question, templates)\n",
        "      print(\"Answer: \")\n",
        "      display(answer2)\n",
        "    except:\n",
        "      print(\"An exception occurred\")\n",
        "    \n",
        "        \n",
        "\n"
      ],
      "metadata": {
        "id": "_Qzea7PQCoEb",
        "colab": {
          "base_uri": "https://localhost:8080/",
          "height": 227
        },
        "outputId": "11a44096-84a4-4b7b-c263-f23f66f04d42"
      },
      "execution_count": 31,
      "outputs": [
        {
          "output_type": "stream",
          "name": "stdout",
          "text": [
            "Would you like to know more about:  What are some romantic places?\n",
            "Type YES/NO to continue: yes\n",
            "Answer: \n"
          ]
        },
        {
          "output_type": "display_data",
          "data": {
            "text/plain": [
              "      Entity            Relation Entity2_Name\n",
              "0  Santorini  ns0__containsPlace     Akrotiri\n",
              "1  Santorini  ns0__containsPlace   Imerovigli\n",
              "2  Santorini  ns0__containsPlace       Pyrgos\n",
              "3  Santorini  ns0__containsPlace          Oia"
            ],
            "text/html": [
              "\n",
              "  <div id=\"df-bd47dd4e-d994-4875-8896-1b3afcaa7c6e\">\n",
              "    <div class=\"colab-df-container\">\n",
              "      <div>\n",
              "<style scoped>\n",
              "    .dataframe tbody tr th:only-of-type {\n",
              "        vertical-align: middle;\n",
              "    }\n",
              "\n",
              "    .dataframe tbody tr th {\n",
              "        vertical-align: top;\n",
              "    }\n",
              "\n",
              "    .dataframe thead th {\n",
              "        text-align: right;\n",
              "    }\n",
              "</style>\n",
              "<table border=\"1\" class=\"dataframe\">\n",
              "  <thead>\n",
              "    <tr style=\"text-align: right;\">\n",
              "      <th></th>\n",
              "      <th>Entity</th>\n",
              "      <th>Relation</th>\n",
              "      <th>Entity2_Name</th>\n",
              "    </tr>\n",
              "  </thead>\n",
              "  <tbody>\n",
              "    <tr>\n",
              "      <th>0</th>\n",
              "      <td>Santorini</td>\n",
              "      <td>ns0__containsPlace</td>\n",
              "      <td>Akrotiri</td>\n",
              "    </tr>\n",
              "    <tr>\n",
              "      <th>1</th>\n",
              "      <td>Santorini</td>\n",
              "      <td>ns0__containsPlace</td>\n",
              "      <td>Imerovigli</td>\n",
              "    </tr>\n",
              "    <tr>\n",
              "      <th>2</th>\n",
              "      <td>Santorini</td>\n",
              "      <td>ns0__containsPlace</td>\n",
              "      <td>Pyrgos</td>\n",
              "    </tr>\n",
              "    <tr>\n",
              "      <th>3</th>\n",
              "      <td>Santorini</td>\n",
              "      <td>ns0__containsPlace</td>\n",
              "      <td>Oia</td>\n",
              "    </tr>\n",
              "  </tbody>\n",
              "</table>\n",
              "</div>\n",
              "      <button class=\"colab-df-convert\" onclick=\"convertToInteractive('df-bd47dd4e-d994-4875-8896-1b3afcaa7c6e')\"\n",
              "              title=\"Convert this dataframe to an interactive table.\"\n",
              "              style=\"display:none;\">\n",
              "        \n",
              "  <svg xmlns=\"http://www.w3.org/2000/svg\" height=\"24px\"viewBox=\"0 0 24 24\"\n",
              "       width=\"24px\">\n",
              "    <path d=\"M0 0h24v24H0V0z\" fill=\"none\"/>\n",
              "    <path d=\"M18.56 5.44l.94 2.06.94-2.06 2.06-.94-2.06-.94-.94-2.06-.94 2.06-2.06.94zm-11 1L8.5 8.5l.94-2.06 2.06-.94-2.06-.94L8.5 2.5l-.94 2.06-2.06.94zm10 10l.94 2.06.94-2.06 2.06-.94-2.06-.94-.94-2.06-.94 2.06-2.06.94z\"/><path d=\"M17.41 7.96l-1.37-1.37c-.4-.4-.92-.59-1.43-.59-.52 0-1.04.2-1.43.59L10.3 9.45l-7.72 7.72c-.78.78-.78 2.05 0 2.83L4 21.41c.39.39.9.59 1.41.59.51 0 1.02-.2 1.41-.59l7.78-7.78 2.81-2.81c.8-.78.8-2.07 0-2.86zM5.41 20L4 18.59l7.72-7.72 1.47 1.35L5.41 20z\"/>\n",
              "  </svg>\n",
              "      </button>\n",
              "      \n",
              "  <style>\n",
              "    .colab-df-container {\n",
              "      display:flex;\n",
              "      flex-wrap:wrap;\n",
              "      gap: 12px;\n",
              "    }\n",
              "\n",
              "    .colab-df-convert {\n",
              "      background-color: #E8F0FE;\n",
              "      border: none;\n",
              "      border-radius: 50%;\n",
              "      cursor: pointer;\n",
              "      display: none;\n",
              "      fill: #1967D2;\n",
              "      height: 32px;\n",
              "      padding: 0 0 0 0;\n",
              "      width: 32px;\n",
              "    }\n",
              "\n",
              "    .colab-df-convert:hover {\n",
              "      background-color: #E2EBFA;\n",
              "      box-shadow: 0px 1px 2px rgba(60, 64, 67, 0.3), 0px 1px 3px 1px rgba(60, 64, 67, 0.15);\n",
              "      fill: #174EA6;\n",
              "    }\n",
              "\n",
              "    [theme=dark] .colab-df-convert {\n",
              "      background-color: #3B4455;\n",
              "      fill: #D2E3FC;\n",
              "    }\n",
              "\n",
              "    [theme=dark] .colab-df-convert:hover {\n",
              "      background-color: #434B5C;\n",
              "      box-shadow: 0px 1px 3px 1px rgba(0, 0, 0, 0.15);\n",
              "      filter: drop-shadow(0px 1px 2px rgba(0, 0, 0, 0.3));\n",
              "      fill: #FFFFFF;\n",
              "    }\n",
              "  </style>\n",
              "\n",
              "      <script>\n",
              "        const buttonEl =\n",
              "          document.querySelector('#df-bd47dd4e-d994-4875-8896-1b3afcaa7c6e button.colab-df-convert');\n",
              "        buttonEl.style.display =\n",
              "          google.colab.kernel.accessAllowed ? 'block' : 'none';\n",
              "\n",
              "        async function convertToInteractive(key) {\n",
              "          const element = document.querySelector('#df-bd47dd4e-d994-4875-8896-1b3afcaa7c6e');\n",
              "          const dataTable =\n",
              "            await google.colab.kernel.invokeFunction('convertToInteractive',\n",
              "                                                     [key], {});\n",
              "          if (!dataTable) return;\n",
              "\n",
              "          const docLinkHtml = 'Like what you see? Visit the ' +\n",
              "            '<a target=\"_blank\" href=https://colab.research.google.com/notebooks/data_table.ipynb>data table notebook</a>'\n",
              "            + ' to learn more about interactive tables.';\n",
              "          element.innerHTML = '';\n",
              "          dataTable['output_type'] = 'display_data';\n",
              "          await google.colab.output.renderOutput(dataTable, element);\n",
              "          const docLink = document.createElement('div');\n",
              "          docLink.innerHTML = docLinkHtml;\n",
              "          element.appendChild(docLink);\n",
              "        }\n",
              "      </script>\n",
              "    </div>\n",
              "  </div>\n",
              "  "
            ]
          },
          "metadata": {}
        }
      ]
    },
    {
      "cell_type": "code",
      "source": [
        "print(\"Thank you! Bye Bye! :)\")"
      ],
      "metadata": {
        "colab": {
          "base_uri": "https://localhost:8080/"
        },
        "id": "1mN_IdVlcP9W",
        "outputId": "9e70d66f-f605-4646-d167-becfd22a917f"
      },
      "execution_count": 32,
      "outputs": [
        {
          "output_type": "stream",
          "name": "stdout",
          "text": [
            "Thank you! Bye Bye! :)\n"
          ]
        }
      ]
    }
  ]
}