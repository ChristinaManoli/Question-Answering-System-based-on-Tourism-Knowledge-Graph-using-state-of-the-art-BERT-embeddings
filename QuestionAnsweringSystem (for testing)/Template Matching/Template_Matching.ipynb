{
  "nbformat": 4,
  "nbformat_minor": 0,
  "metadata": {
    "colab": {
      "provenance": []
    },
    "kernelspec": {
      "name": "python3",
      "display_name": "Python 3"
    },
    "language_info": {
      "name": "python"
    }
  },
  "cells": [
    {
      "cell_type": "markdown",
      "source": [
        "# Question Answering System Template Matching Part \n",
        "## Sentence Similarity (SentenceTransformers) + Linguistic Methods\n"
      ],
      "metadata": {
        "id": "QEVlwJPwKvKh"
      }
    },
    {
      "cell_type": "markdown",
      "source": [
        "## Importing the necessary packages"
      ],
      "metadata": {
        "id": "IpO-gs6-Kvgr"
      }
    },
    {
      "cell_type": "code",
      "source": [
        "!pip install sentence-transformers\n",
        "\n",
        "from sentence_transformers import SentenceTransformer\n",
        "from sklearn.metrics.pairwise import cosine_similarity\n",
        "import pandas as pd\n",
        "import numpy as np\n",
        "import re\n",
        "import nltk\n",
        "nltk.download('stopwords')\n",
        "nltk.download('wordnet')\n",
        "nltk.download('omw-1.4')\n",
        "nltk.download('punkt')\n",
        "\n",
        "from sklearn import metrics, manifold\n",
        "## for plotting\n",
        "import matplotlib.pyplot as plt\n",
        "import seaborn as sns\n",
        "\n",
        "import spacy\n",
        "from spacy import displacy\n",
        "\n",
        "!pip3 install truecase\n",
        "import truecase\n"
      ],
      "metadata": {
        "colab": {
          "base_uri": "https://localhost:8080/"
        },
        "id": "3ZtKDWclV7cP",
        "outputId": "c0cc63c9-6f99-4922-9ef9-8f1a92a75317"
      },
      "execution_count": 1,
      "outputs": [
        {
          "output_type": "stream",
          "name": "stdout",
          "text": [
            "Looking in indexes: https://pypi.org/simple, https://us-python.pkg.dev/colab-wheels/public/simple/\n",
            "Requirement already satisfied: sentence-transformers in /usr/local/lib/python3.8/dist-packages (2.2.2)\n",
            "Requirement already satisfied: scikit-learn in /usr/local/lib/python3.8/dist-packages (from sentence-transformers) (1.0.2)\n",
            "Requirement already satisfied: sentencepiece in /usr/local/lib/python3.8/dist-packages (from sentence-transformers) (0.1.97)\n",
            "Requirement already satisfied: tqdm in /usr/local/lib/python3.8/dist-packages (from sentence-transformers) (4.64.1)\n",
            "Requirement already satisfied: huggingface-hub>=0.4.0 in /usr/local/lib/python3.8/dist-packages (from sentence-transformers) (0.12.0)\n",
            "Requirement already satisfied: scipy in /usr/local/lib/python3.8/dist-packages (from sentence-transformers) (1.7.3)\n",
            "Requirement already satisfied: torchvision in /usr/local/lib/python3.8/dist-packages (from sentence-transformers) (0.14.1+cu116)\n",
            "Requirement already satisfied: numpy in /usr/local/lib/python3.8/dist-packages (from sentence-transformers) (1.21.6)\n",
            "Requirement already satisfied: nltk in /usr/local/lib/python3.8/dist-packages (from sentence-transformers) (3.7)\n",
            "Requirement already satisfied: torch>=1.6.0 in /usr/local/lib/python3.8/dist-packages (from sentence-transformers) (1.13.1+cu116)\n",
            "Requirement already satisfied: transformers<5.0.0,>=4.6.0 in /usr/local/lib/python3.8/dist-packages (from sentence-transformers) (4.26.0)\n",
            "Requirement already satisfied: typing-extensions>=3.7.4.3 in /usr/local/lib/python3.8/dist-packages (from huggingface-hub>=0.4.0->sentence-transformers) (4.4.0)\n",
            "Requirement already satisfied: pyyaml>=5.1 in /usr/local/lib/python3.8/dist-packages (from huggingface-hub>=0.4.0->sentence-transformers) (6.0)\n",
            "Requirement already satisfied: filelock in /usr/local/lib/python3.8/dist-packages (from huggingface-hub>=0.4.0->sentence-transformers) (3.9.0)\n",
            "Requirement already satisfied: requests in /usr/local/lib/python3.8/dist-packages (from huggingface-hub>=0.4.0->sentence-transformers) (2.25.1)\n",
            "Requirement already satisfied: packaging>=20.9 in /usr/local/lib/python3.8/dist-packages (from huggingface-hub>=0.4.0->sentence-transformers) (21.3)\n",
            "Requirement already satisfied: regex!=2019.12.17 in /usr/local/lib/python3.8/dist-packages (from transformers<5.0.0,>=4.6.0->sentence-transformers) (2022.6.2)\n",
            "Requirement already satisfied: tokenizers!=0.11.3,<0.14,>=0.11.1 in /usr/local/lib/python3.8/dist-packages (from transformers<5.0.0,>=4.6.0->sentence-transformers) (0.13.2)\n",
            "Requirement already satisfied: joblib in /usr/local/lib/python3.8/dist-packages (from nltk->sentence-transformers) (1.2.0)\n",
            "Requirement already satisfied: click in /usr/local/lib/python3.8/dist-packages (from nltk->sentence-transformers) (7.1.2)\n",
            "Requirement already satisfied: threadpoolctl>=2.0.0 in /usr/local/lib/python3.8/dist-packages (from scikit-learn->sentence-transformers) (3.1.0)\n",
            "Requirement already satisfied: pillow!=8.3.*,>=5.3.0 in /usr/local/lib/python3.8/dist-packages (from torchvision->sentence-transformers) (7.1.2)\n",
            "Requirement already satisfied: pyparsing!=3.0.5,>=2.0.2 in /usr/local/lib/python3.8/dist-packages (from packaging>=20.9->huggingface-hub>=0.4.0->sentence-transformers) (3.0.9)\n",
            "Requirement already satisfied: chardet<5,>=3.0.2 in /usr/local/lib/python3.8/dist-packages (from requests->huggingface-hub>=0.4.0->sentence-transformers) (4.0.0)\n",
            "Requirement already satisfied: idna<3,>=2.5 in /usr/local/lib/python3.8/dist-packages (from requests->huggingface-hub>=0.4.0->sentence-transformers) (2.10)\n",
            "Requirement already satisfied: certifi>=2017.4.17 in /usr/local/lib/python3.8/dist-packages (from requests->huggingface-hub>=0.4.0->sentence-transformers) (2022.12.7)\n",
            "Requirement already satisfied: urllib3<1.27,>=1.21.1 in /usr/local/lib/python3.8/dist-packages (from requests->huggingface-hub>=0.4.0->sentence-transformers) (1.24.3)\n"
          ]
        },
        {
          "output_type": "stream",
          "name": "stderr",
          "text": [
            "[nltk_data] Downloading package stopwords to /root/nltk_data...\n",
            "[nltk_data]   Package stopwords is already up-to-date!\n",
            "[nltk_data] Downloading package wordnet to /root/nltk_data...\n",
            "[nltk_data]   Package wordnet is already up-to-date!\n",
            "[nltk_data] Downloading package omw-1.4 to /root/nltk_data...\n",
            "[nltk_data]   Package omw-1.4 is already up-to-date!\n",
            "[nltk_data] Downloading package punkt to /root/nltk_data...\n",
            "[nltk_data]   Package punkt is already up-to-date!\n",
            "/usr/local/lib/python3.8/dist-packages/torch/cuda/__init__.py:497: UserWarning: Can't initialize NVML\n",
            "  warnings.warn(\"Can't initialize NVML\")\n"
          ]
        },
        {
          "output_type": "stream",
          "name": "stdout",
          "text": [
            "Looking in indexes: https://pypi.org/simple, https://us-python.pkg.dev/colab-wheels/public/simple/\n",
            "Requirement already satisfied: truecase in /usr/local/lib/python3.8/dist-packages (0.0.14)\n",
            "Requirement already satisfied: nltk in /usr/local/lib/python3.8/dist-packages (from truecase) (3.7)\n",
            "Requirement already satisfied: regex>=2021.8.3 in /usr/local/lib/python3.8/dist-packages (from nltk->truecase) (2022.6.2)\n",
            "Requirement already satisfied: joblib in /usr/local/lib/python3.8/dist-packages (from nltk->truecase) (1.2.0)\n",
            "Requirement already satisfied: click in /usr/local/lib/python3.8/dist-packages (from nltk->truecase) (7.1.2)\n",
            "Requirement already satisfied: tqdm in /usr/local/lib/python3.8/dist-packages (from nltk->truecase) (4.64.1)\n"
          ]
        }
      ]
    },
    {
      "cell_type": "markdown",
      "source": [
        "##Load Questions and Templates"
      ],
      "metadata": {
        "id": "LCf-AnKZG2tT"
      }
    },
    {
      "cell_type": "code",
      "execution_count": 2,
      "metadata": {
        "id": "mhjl4amYH668",
        "colab": {
          "base_uri": "https://localhost:8080/",
          "height": 206
        },
        "outputId": "bc8b886d-d8c5-4c0d-afd7-5fda4d2c6dde"
      },
      "outputs": [
        {
          "output_type": "execute_result",
          "data": {
            "text/plain": [
              "                           Template  \\\n",
              "0     Historical Info about <Place>   \n",
              "1             Villages of Santorini   \n",
              "2  What is Santorini also known as?   \n",
              "3               Myths about <Place>   \n",
              "4   What do you know about <Place>?   \n",
              "\n",
              "                                              Cypher  \n",
              "0  MATCH (p) WHERE p.ns0__name = \"<Place>\" RETURN...  \n",
              "1  MATCH (start{ns0__name:\"Santorini\"})-[r:ns0__c...  \n",
              "2  MATCH (start{ns0__name:\"Santorini\"})-[r:ns1__A...  \n",
              "3  MATCH (start{ns0__name:\"<Place>\"})-[r:ns1__Myt...  \n",
              "4  MATCH p=(start{ns0__name:\"<Place>\"})-[r]->(end...  "
            ],
            "text/html": [
              "\n",
              "  <div id=\"df-4ae91dd3-fbe3-4aad-9240-a8505a7f64f3\">\n",
              "    <div class=\"colab-df-container\">\n",
              "      <div>\n",
              "<style scoped>\n",
              "    .dataframe tbody tr th:only-of-type {\n",
              "        vertical-align: middle;\n",
              "    }\n",
              "\n",
              "    .dataframe tbody tr th {\n",
              "        vertical-align: top;\n",
              "    }\n",
              "\n",
              "    .dataframe thead th {\n",
              "        text-align: right;\n",
              "    }\n",
              "</style>\n",
              "<table border=\"1\" class=\"dataframe\">\n",
              "  <thead>\n",
              "    <tr style=\"text-align: right;\">\n",
              "      <th></th>\n",
              "      <th>Template</th>\n",
              "      <th>Cypher</th>\n",
              "    </tr>\n",
              "  </thead>\n",
              "  <tbody>\n",
              "    <tr>\n",
              "      <th>0</th>\n",
              "      <td>Historical Info about &lt;Place&gt;</td>\n",
              "      <td>MATCH (p) WHERE p.ns0__name = \"&lt;Place&gt;\" RETURN...</td>\n",
              "    </tr>\n",
              "    <tr>\n",
              "      <th>1</th>\n",
              "      <td>Villages of Santorini</td>\n",
              "      <td>MATCH (start{ns0__name:\"Santorini\"})-[r:ns0__c...</td>\n",
              "    </tr>\n",
              "    <tr>\n",
              "      <th>2</th>\n",
              "      <td>What is Santorini also known as?</td>\n",
              "      <td>MATCH (start{ns0__name:\"Santorini\"})-[r:ns1__A...</td>\n",
              "    </tr>\n",
              "    <tr>\n",
              "      <th>3</th>\n",
              "      <td>Myths about &lt;Place&gt;</td>\n",
              "      <td>MATCH (start{ns0__name:\"&lt;Place&gt;\"})-[r:ns1__Myt...</td>\n",
              "    </tr>\n",
              "    <tr>\n",
              "      <th>4</th>\n",
              "      <td>What do you know about &lt;Place&gt;?</td>\n",
              "      <td>MATCH p=(start{ns0__name:\"&lt;Place&gt;\"})-[r]-&gt;(end...</td>\n",
              "    </tr>\n",
              "  </tbody>\n",
              "</table>\n",
              "</div>\n",
              "      <button class=\"colab-df-convert\" onclick=\"convertToInteractive('df-4ae91dd3-fbe3-4aad-9240-a8505a7f64f3')\"\n",
              "              title=\"Convert this dataframe to an interactive table.\"\n",
              "              style=\"display:none;\">\n",
              "        \n",
              "  <svg xmlns=\"http://www.w3.org/2000/svg\" height=\"24px\"viewBox=\"0 0 24 24\"\n",
              "       width=\"24px\">\n",
              "    <path d=\"M0 0h24v24H0V0z\" fill=\"none\"/>\n",
              "    <path d=\"M18.56 5.44l.94 2.06.94-2.06 2.06-.94-2.06-.94-.94-2.06-.94 2.06-2.06.94zm-11 1L8.5 8.5l.94-2.06 2.06-.94-2.06-.94L8.5 2.5l-.94 2.06-2.06.94zm10 10l.94 2.06.94-2.06 2.06-.94-2.06-.94-.94-2.06-.94 2.06-2.06.94z\"/><path d=\"M17.41 7.96l-1.37-1.37c-.4-.4-.92-.59-1.43-.59-.52 0-1.04.2-1.43.59L10.3 9.45l-7.72 7.72c-.78.78-.78 2.05 0 2.83L4 21.41c.39.39.9.59 1.41.59.51 0 1.02-.2 1.41-.59l7.78-7.78 2.81-2.81c.8-.78.8-2.07 0-2.86zM5.41 20L4 18.59l7.72-7.72 1.47 1.35L5.41 20z\"/>\n",
              "  </svg>\n",
              "      </button>\n",
              "      \n",
              "  <style>\n",
              "    .colab-df-container {\n",
              "      display:flex;\n",
              "      flex-wrap:wrap;\n",
              "      gap: 12px;\n",
              "    }\n",
              "\n",
              "    .colab-df-convert {\n",
              "      background-color: #E8F0FE;\n",
              "      border: none;\n",
              "      border-radius: 50%;\n",
              "      cursor: pointer;\n",
              "      display: none;\n",
              "      fill: #1967D2;\n",
              "      height: 32px;\n",
              "      padding: 0 0 0 0;\n",
              "      width: 32px;\n",
              "    }\n",
              "\n",
              "    .colab-df-convert:hover {\n",
              "      background-color: #E2EBFA;\n",
              "      box-shadow: 0px 1px 2px rgba(60, 64, 67, 0.3), 0px 1px 3px 1px rgba(60, 64, 67, 0.15);\n",
              "      fill: #174EA6;\n",
              "    }\n",
              "\n",
              "    [theme=dark] .colab-df-convert {\n",
              "      background-color: #3B4455;\n",
              "      fill: #D2E3FC;\n",
              "    }\n",
              "\n",
              "    [theme=dark] .colab-df-convert:hover {\n",
              "      background-color: #434B5C;\n",
              "      box-shadow: 0px 1px 3px 1px rgba(0, 0, 0, 0.15);\n",
              "      filter: drop-shadow(0px 1px 2px rgba(0, 0, 0, 0.3));\n",
              "      fill: #FFFFFF;\n",
              "    }\n",
              "  </style>\n",
              "\n",
              "      <script>\n",
              "        const buttonEl =\n",
              "          document.querySelector('#df-4ae91dd3-fbe3-4aad-9240-a8505a7f64f3 button.colab-df-convert');\n",
              "        buttonEl.style.display =\n",
              "          google.colab.kernel.accessAllowed ? 'block' : 'none';\n",
              "\n",
              "        async function convertToInteractive(key) {\n",
              "          const element = document.querySelector('#df-4ae91dd3-fbe3-4aad-9240-a8505a7f64f3');\n",
              "          const dataTable =\n",
              "            await google.colab.kernel.invokeFunction('convertToInteractive',\n",
              "                                                     [key], {});\n",
              "          if (!dataTable) return;\n",
              "\n",
              "          const docLinkHtml = 'Like what you see? Visit the ' +\n",
              "            '<a target=\"_blank\" href=https://colab.research.google.com/notebooks/data_table.ipynb>data table notebook</a>'\n",
              "            + ' to learn more about interactive tables.';\n",
              "          element.innerHTML = '';\n",
              "          dataTable['output_type'] = 'display_data';\n",
              "          await google.colab.output.renderOutput(dataTable, element);\n",
              "          const docLink = document.createElement('div');\n",
              "          docLink.innerHTML = docLinkHtml;\n",
              "          element.appendChild(docLink);\n",
              "        }\n",
              "      </script>\n",
              "    </div>\n",
              "  </div>\n",
              "  "
            ]
          },
          "metadata": {},
          "execution_count": 2
        }
      ],
      "source": [
        "templates = pd.read_csv(\"TestTemplates.csv\", sep='|', engine='python')\n",
        "questions = pd.read_csv(\"TM_TestSet.csv\")\n",
        "templates.head()"
      ]
    },
    {
      "cell_type": "markdown",
      "source": [
        "# Sentence Similarity"
      ],
      "metadata": {
        "id": "1bBF0diSOIll"
      }
    },
    {
      "cell_type": "markdown",
      "source": [
        "## Define Preprocessing Methods"
      ],
      "metadata": {
        "id": "1TsOeUyCLU1s"
      }
    },
    {
      "cell_type": "code",
      "source": [
        "#preprocessing and cleaning method 1\n",
        "\n",
        "def utils_preprocess_text1(sentence):\n",
        "  #Remove any < > references\n",
        "  new_sentence = re.sub(\"<+[\\w]*>\", \"\", sentence)\n",
        "    \n",
        "  #Remove the word Santorini\n",
        "  new_sentence = new_sentence.replace(\"Santorini\", \"\")\n",
        "  new_sentence = new_sentence.replace(\"santorini\", \"\")\n",
        "  \n",
        "  return new_sentence"
      ],
      "metadata": {
        "id": "XO6jXTuRLPZz"
      },
      "execution_count": 3,
      "outputs": []
    },
    {
      "cell_type": "code",
      "source": [
        "#preprocessing and cleaning method 2\n",
        "\n",
        "'''\n",
        "Preprocess a string.\n",
        ":parameter\n",
        "    :param text: string - name of column containing text\n",
        "    :param lst_stopwords: list - list of stopwords to remove\n",
        "    :param flg_lemm: bool - whether lemmitisation is to be applied\n",
        ":return\n",
        "    cleaned text\n",
        "'''\n",
        "def utils_preprocess_text2(text, flg_lemm=True, lst_stopwords=None):\n",
        "    ## clean (convert to lowercase and remove punctuations and characters and then strip)\n",
        "    text = re.sub(r'[^\\w\\s]', '', str(text).lower().strip())\n",
        "            \n",
        "    ## Tokenize (convert from string to list)\n",
        "    lst_text = text.split()    \n",
        "    ## remove Stopwords\n",
        "    if lst_stopwords is not None:\n",
        "        lst_text = [word for word in lst_text if word not in \n",
        "                    lst_stopwords]\n",
        "                \n",
        "    ## Lemmatisation (convert the word into root word)\n",
        "    if flg_lemm == True:\n",
        "        lem = nltk.stem.wordnet.WordNetLemmatizer()\n",
        "        lst_text = [lem.lemmatize(word) for word in lst_text]\n",
        "            \n",
        "    ## back to string from list\n",
        "    text = \" \".join(lst_text)\n",
        "    return text"
      ],
      "metadata": {
        "id": "XsjpK7ZzKop0"
      },
      "execution_count": 4,
      "outputs": []
    },
    {
      "cell_type": "markdown",
      "source": [
        "# Πειράματα 2.1"
      ],
      "metadata": {
        "id": "LOSDUZWAVB3W"
      }
    },
    {
      "cell_type": "code",
      "source": [
        "'''\n",
        "#Πειραμα 2.1.1\n",
        "#Cleaning Templates with utils_preprocess_text1\n",
        "\n",
        "index=0\n",
        "for sentence in templates[\"Template\"]:\n",
        "  templates.at[index,'Template_Clean1'] = utils_preprocess_text1(sentence)\n",
        "  index=index+1\n",
        "\n",
        "templates.head()\n",
        "\n",
        "'''"
      ],
      "metadata": {
        "colab": {
          "base_uri": "https://localhost:8080/",
          "height": 53
        },
        "id": "38fzcEAeNId6",
        "outputId": "b0846ba8-99ca-47a2-dccd-9525dd9af1c6"
      },
      "execution_count": 5,
      "outputs": [
        {
          "output_type": "execute_result",
          "data": {
            "text/plain": [
              "'\\n#Πειραμα 2.1.1\\n#Cleaning Templates with utils_preprocess_text1\\n\\nindex=0\\nfor sentence in templates[\"Template\"]:\\n  templates.at[index,\\'Template_Clean1\\'] = utils_preprocess_text1(sentence)\\n  index=index+1\\n\\ntemplates.head()\\n\\n'"
            ],
            "application/vnd.google.colaboratory.intrinsic+json": {
              "type": "string"
            }
          },
          "metadata": {},
          "execution_count": 5
        }
      ]
    },
    {
      "cell_type": "code",
      "source": [
        "'''\n",
        "#Πειραμα 2.1.2\n",
        "#Cleaning Templates with utils_preprocess_text2\n",
        "\n",
        "lst_stopwords = nltk.corpus.stopwords.words(\"english\")\n",
        "index=0\n",
        "for sentence in templates[\"Template\"]:\n",
        "  templates.at[index,'Template_Clean2'] = utils_preprocess_text2(sentence, flg_stemm=False, flg_lemm=True)\n",
        "  index=index+1\n",
        "\n",
        "templates.head()\n",
        "'''"
      ],
      "metadata": {
        "colab": {
          "base_uri": "https://localhost:8080/",
          "height": 53
        },
        "id": "Jx4xIeCT2Qp0",
        "outputId": "0ad2c715-76c0-45b4-b5fc-231a9f61d4eb"
      },
      "execution_count": 6,
      "outputs": [
        {
          "output_type": "execute_result",
          "data": {
            "text/plain": [
              "'\\n#Πειραμα 2.1.2\\n#Cleaning Templates with utils_preprocess_text2\\n\\nlst_stopwords = nltk.corpus.stopwords.words(\"english\")\\nindex=0\\nfor sentence in templates[\"Template\"]:\\n  templates.at[index,\\'Template_Clean2\\'] = utils_preprocess_text2(sentence, flg_stemm=False, flg_lemm=True)\\n  index=index+1\\n\\ntemplates.head()\\n'"
            ],
            "application/vnd.google.colaboratory.intrinsic+json": {
              "type": "string"
            }
          },
          "metadata": {},
          "execution_count": 6
        }
      ]
    },
    {
      "cell_type": "code",
      "source": [
        "'''\n",
        "#Πειραμα 2.1.3\n",
        "#Cleaning Templates with utils_preprocess_text + utils_preprocess_text2\n",
        "\n",
        "lst_stopwords = nltk.corpus.stopwords.words(\"english\")\n",
        "index=0\n",
        "for sentence in templates[\"Template\"]:\n",
        "  sentence = utils_preprocess_text1(sentence)\n",
        "  templates.at[index,'Template_Clean3'] = utils_preprocess_text2(sentence, flg_stemm=False, flg_lemm=True)\n",
        "  \n",
        "  index=index+1\n",
        "\n",
        "templates.head()\n",
        "'''"
      ],
      "metadata": {
        "colab": {
          "base_uri": "https://localhost:8080/",
          "height": 53
        },
        "id": "0oj6flVfNI2g",
        "outputId": "84aed9d2-d77c-4f7d-af97-7ba398c8c909"
      },
      "execution_count": 7,
      "outputs": [
        {
          "output_type": "execute_result",
          "data": {
            "text/plain": [
              "'\\n#Πειραμα 2.1.3\\n#Cleaning Templates with utils_preprocess_text + utils_preprocess_text2\\n\\nlst_stopwords = nltk.corpus.stopwords.words(\"english\")\\nindex=0\\nfor sentence in templates[\"Template\"]:\\n  sentence = utils_preprocess_text1(sentence)\\n  templates.at[index,\\'Template_Clean3\\'] = utils_preprocess_text2(sentence, flg_stemm=False, flg_lemm=True)\\n  \\n  index=index+1\\n\\ntemplates.head()\\n'"
            ],
            "application/vnd.google.colaboratory.intrinsic+json": {
              "type": "string"
            }
          },
          "metadata": {},
          "execution_count": 7
        }
      ]
    },
    {
      "cell_type": "code",
      "source": [
        "'''\n",
        "#Πειραμα 2.1.4\n",
        "#Cleaning Templates with utils_preprocess_text2 AND Cleaning Questions with utils_preprocess_text2\n",
        "\n",
        "lst_stopwords = nltk.corpus.stopwords.words(\"english\")\n",
        "index=0\n",
        "for sentence in templates[\"Template\"]:\n",
        "  templates.at[index,'Template_Clean2'] = utils_preprocess_text2(sentence, flg_stemm=False, flg_lemm=True)\n",
        "  index=index+1\n",
        "\n",
        "index=0\n",
        "for sentence in questions[\"text\"]:\n",
        "  questions.at[index,'Text_Clean1'] = utils_preprocess_text2(sentence, flg_stemm=False, flg_lemm=True)\n",
        "  index=index+1\n",
        "\n",
        "'''"
      ],
      "metadata": {
        "colab": {
          "base_uri": "https://localhost:8080/",
          "height": 70
        },
        "id": "4UdOjEN_NMYH",
        "outputId": "ccc07125-0464-4bd3-8cf5-b05e5564a08f"
      },
      "execution_count": 8,
      "outputs": [
        {
          "output_type": "execute_result",
          "data": {
            "text/plain": [
              "'\\n#Πειραμα 2.1.4\\n#Cleaning Templates with utils_preprocess_text2 AND Cleaning Questions with utils_preprocess_text2\\n\\nlst_stopwords = nltk.corpus.stopwords.words(\"english\")\\nindex=0\\nfor sentence in templates[\"Template\"]:\\n  templates.at[index,\\'Template_Clean2\\'] = utils_preprocess_text2(sentence, flg_stemm=False, flg_lemm=True)\\n  index=index+1\\n\\nindex=0\\nfor sentence in questions[\"text\"]:\\n  questions.at[index,\\'Text_Clean1\\'] = utils_preprocess_text2(sentence, flg_stemm=False, flg_lemm=True)\\n  index=index+1\\n\\n'"
            ],
            "application/vnd.google.colaboratory.intrinsic+json": {
              "type": "string"
            }
          },
          "metadata": {},
          "execution_count": 8
        }
      ]
    },
    {
      "cell_type": "code",
      "source": [
        "\n",
        "#Πειραμα 2.1.5\n",
        "#Cleaning Templates with utils_preprocess_text1 + utils_preprocess_text2 AND Cleaning Question with utils_preprocess_text2\n",
        "\n",
        "lst_stopwords = nltk.corpus.stopwords.words(\"english\")\n",
        "index=0\n",
        "for sentence in templates[\"Template\"]:\n",
        "  sentence = utils_preprocess_text1(sentence)\n",
        "  templates.at[index,'Template_Clean3'] = utils_preprocess_text2(sentence, flg_lemm=True)\n",
        "\n",
        "  index=index+1\n",
        "\n",
        "index=0\n",
        "for sentence in questions[\"text\"]:\n",
        "  questions.at[index,'Text_Clean1'] = utils_preprocess_text2(sentence, flg_lemm=True)\n",
        "  index=index+1\n"
      ],
      "metadata": {
        "id": "Ts6d0JTaNRJf"
      },
      "execution_count": 9,
      "outputs": []
    },
    {
      "cell_type": "markdown",
      "source": [
        "# Πειράματα 2.2"
      ],
      "metadata": {
        "id": "qeRVdkyPVbEJ"
      }
    },
    {
      "cell_type": "markdown",
      "source": [
        "## Define SentenceTransformers model"
      ],
      "metadata": {
        "id": "FKtvBC0ALb7o"
      }
    },
    {
      "cell_type": "code",
      "source": [
        "#model = SentenceTransformer('bert-base-nli-mean-tokens')"
      ],
      "metadata": {
        "id": "D6oM1XFhICxV"
      },
      "execution_count": 10,
      "outputs": []
    },
    {
      "cell_type": "code",
      "source": [
        "#model = SentenceTransformer('sentence-transformers/all-mpnet-base-v2')\n",
        "#model = SentenceTransformer('sentence-transformers/all-distilroberta-v1')\n",
        "model = SentenceTransformer('sentence-transformers/all-MiniLM-L12-v2')\n",
        "#model = SentenceTransformer('sentence-transformers/all-MiniLM-L6-v2')"
      ],
      "metadata": {
        "id": "YhEWLJLuVayw"
      },
      "execution_count": 11,
      "outputs": []
    },
    {
      "cell_type": "markdown",
      "source": [
        "## Calculate Embeddings for both Questions and Templates"
      ],
      "metadata": {
        "id": "y3ZgMxtqMgJn"
      }
    },
    {
      "cell_type": "code",
      "source": [
        "template_embeddings = model.encode(templates[\"Template_Clean3\"])\n",
        "questions_embeddings = model.encode(questions[\"Text_Clean1\"])"
      ],
      "metadata": {
        "id": "FnE5trxmH7sb"
      },
      "execution_count": 12,
      "outputs": []
    },
    {
      "cell_type": "markdown",
      "source": [
        "## Calculate similarities between the two embeddings"
      ],
      "metadata": {
        "id": "mSd4pwioMoOr"
      }
    },
    {
      "cell_type": "code",
      "source": [
        "#for every question we compute how similar it is to each template\n",
        "similarities2 = cosine_similarity(questions_embeddings, template_embeddings)\n",
        "print(similarities2)\n",
        "\n",
        "\n",
        "for i in range(len(similarities2)):\n",
        "    ### rescale so they sum = 1\n",
        "    similarities2[i] = similarities2[i] / sum(similarities2[i])\n",
        "\n",
        "\n",
        "## classify the label with highest similarity score\n",
        "predicted_prob = similarities2\n",
        "predicted = []\n",
        "second =[]\n",
        "\n",
        "for pred in predicted_prob:\n",
        "  x = np.argmax(pred)\n",
        "  predicted.append(\"T\" + str(x))\n",
        "  \n",
        "  \n",
        "  #getting the second biggest similarity\n",
        "  temp = np.copy(pred)\n",
        "  temp[x] = -1\n",
        "  x2=np.argmax(temp)\n",
        "  second.append(\"T\" + str(x2))\n",
        "\n",
        "\n",
        "\n",
        "print(predicted)\n",
        "print(second)\n"
      ],
      "metadata": {
        "colab": {
          "base_uri": "https://localhost:8080/"
        },
        "id": "VRcs66DDIPbd",
        "outputId": "d2287634-23aa-458d-a6f2-529dd5ea7af2"
      },
      "execution_count": 13,
      "outputs": [
        {
          "output_type": "stream",
          "name": "stdout",
          "text": [
            "[[ 0.24515015  0.16571942  0.07657856  0.55918014  0.10401148  0.05913053\n",
            "   0.13408634  0.20899156]\n",
            " [ 0.04269475  0.45453727  0.02343876  0.09223197  0.02044361  0.09738307\n",
            "   0.2948287   0.2393418 ]\n",
            " [ 0.07236823  0.22453733  0.0829753   0.09510753  0.06052717  0.13560966\n",
            "   0.61777174  0.9104528 ]\n",
            " [ 0.32582676  0.12984434  0.06594065  0.1444985   0.0803896  -0.00628832\n",
            "   0.13440078  0.1703786 ]\n",
            " [ 0.27229285  0.12555683  0.20351058  0.23242116  0.30426055  0.08363081\n",
            "   0.01427101  0.09137051]\n",
            " [ 0.2204334   0.22667465  0.2997466   0.19315094  0.16450265  0.05581916\n",
            "   0.18338394  0.22389627]\n",
            " [ 0.04659355  0.07380489  0.0175714   0.08403395 -0.01447956  0.3301436\n",
            "   0.22830121  0.16134189]\n",
            " [ 0.12642471  0.43397644  0.08472621  0.10534463  0.09572692  0.20143722\n",
            "   0.86324084  0.47030073]]\n",
            "['T3', 'T1', 'T7', 'T0', 'T4', 'T2', 'T5', 'T6']\n",
            "['T0', 'T6', 'T6', 'T7', 'T0', 'T1', 'T6', 'T7']\n"
          ]
        }
      ]
    },
    {
      "cell_type": "markdown",
      "source": [
        "## Present Accuracy, Precision, Recall and the Confusion Matrix"
      ],
      "metadata": {
        "id": "fwfrVYHHp4k6"
      }
    },
    {
      "cell_type": "code",
      "source": [
        "y_test = questions[\"label\"].values\n",
        "classes = np.unique(y_test)\n",
        "y_test_array = pd.get_dummies(y_test, drop_first=False).values\n",
        "\n",
        "\n",
        "## Accuracy, Precision, Recall\n",
        "accuracy = metrics.accuracy_score(y_test, predicted)\n",
        "auc = metrics.roc_auc_score(y_test, predicted_prob, multi_class=\"ovr\")\n",
        "print(\"Accuracy:\",  round(accuracy,2))\n",
        "print(\"Auc:\", round(auc,2))\n",
        "print(\"Detail:\")\n",
        "print(metrics.classification_report(y_test, predicted))\n",
        "\n",
        "\n",
        "\n",
        "## Plot confusion matrix\n",
        "cm = metrics.confusion_matrix(y_test, predicted)\n",
        "fig, ax = plt.subplots()\n",
        "sns.heatmap(cm, annot=True, fmt='d', ax=ax, cmap=plt.cm.Blues, \n",
        "            cbar=False)\n",
        "ax.set(xlabel=\"Pred\", ylabel=\"True\", xticklabels=classes, \n",
        "       yticklabels=classes, title=\"Confusion matrix\")\n",
        "plt.yticks(rotation=0)\n",
        "fig.set_figwidth(20)"
      ],
      "metadata": {
        "colab": {
          "base_uri": "https://localhost:8080/",
          "height": 607
        },
        "id": "bQ0j5jBZYOg4",
        "outputId": "149bd4b4-10f8-4c16-e3ec-e57609e35e7b"
      },
      "execution_count": 14,
      "outputs": [
        {
          "output_type": "stream",
          "name": "stdout",
          "text": [
            "Accuracy: 1.0\n",
            "Auc: 1.0\n",
            "Detail:\n",
            "              precision    recall  f1-score   support\n",
            "\n",
            "          T0       1.00      1.00      1.00         1\n",
            "          T1       1.00      1.00      1.00         1\n",
            "          T2       1.00      1.00      1.00         1\n",
            "          T3       1.00      1.00      1.00         1\n",
            "          T4       1.00      1.00      1.00         1\n",
            "          T5       1.00      1.00      1.00         1\n",
            "          T6       1.00      1.00      1.00         1\n",
            "          T7       1.00      1.00      1.00         1\n",
            "\n",
            "    accuracy                           1.00         8\n",
            "   macro avg       1.00      1.00      1.00         8\n",
            "weighted avg       1.00      1.00      1.00         8\n",
            "\n"
          ]
        },
        {
          "output_type": "display_data",
          "data": {
            "text/plain": [
              "<Figure size 1440x288 with 1 Axes>"
            ],
            "image/png": "[encoded data removed]"
          },
          "metadata": {
            "needs_background": "light"
          }
        }
      ]
    },
    {
      "cell_type": "markdown",
      "source": [
        "\n",
        "\n",
        "\n",
        "----\n",
        "\n"
      ],
      "metadata": {
        "id": "14oT35-nNdbm"
      }
    },
    {
      "cell_type": "markdown",
      "source": [
        "## Preprocessing the questions and templates"
      ],
      "metadata": {
        "id": "Nwja3daIN7Yf"
      }
    },
    {
      "cell_type": "code",
      "source": [
        "#Cleaning Templates with utils_preprocess_text1 + utils_preprocess_text2 AND Cleaning Question with utils_preprocess_text2\n",
        "\n",
        "lst_stopwords = nltk.corpus.stopwords.words(\"english\")\n",
        "index=0\n",
        "for sentence in templates[\"Template\"]:\n",
        "  sentence = utils_preprocess_text1(sentence)\n",
        "  templates.at[index,'Template_Clean3'] = utils_preprocess_text2(sentence, flg_lemm=True, lst_stopwords=lst_stopwords)\n",
        "\n",
        "  index=index+1\n",
        "\n",
        "index=0\n",
        "for sentence in questions[\"text\"]:\n",
        "  questions.at[index,'Text_Clean1'] = utils_preprocess_text2(sentence, flg_lemm=True, lst_stopwords=lst_stopwords)\n",
        "  index=index+1\n",
        "\n",
        "print(questions['Text_Clean1'])\n",
        "print(templates['Template_Clean3'])\n"
      ],
      "metadata": {
        "id": "eX7AWbU_Nyd1",
        "colab": {
          "base_uri": "https://localhost:8080/"
        },
        "outputId": "90acb8f1-139a-4c3e-f358-0413d9bb44c4"
      },
      "execution_count": 15,
      "outputs": [
        {
          "output_type": "stream",
          "name": "stdout",
          "text": [
            "0                             myth santorini\n",
            "1                          village santorini\n",
            "2                      romantic place couple\n",
            "3                          history santorini\n",
            "4                              tell akrotiri\n",
            "5                      santorini known thera\n",
            "6    mean transport use get around santorini\n",
            "7                   recommended place family\n",
            "Name: Text_Clean1, dtype: object\n",
            "0          historical info\n",
            "1                  village\n",
            "2               also known\n",
            "3                     myth\n",
            "4                     know\n",
            "5               get around\n",
            "6    family friendly place\n",
            "7           romantic place\n",
            "Name: Template_Clean3, dtype: object\n"
          ]
        }
      ]
    },
    {
      "cell_type": "markdown",
      "source": [
        "# Linguistic Similarity"
      ],
      "metadata": {
        "id": "YA5-HMLUN195"
      }
    },
    {
      "cell_type": "code",
      "source": [
        "def Similarity_LinguisticApproach(question, templates):\n",
        "  score = []\n",
        "  for template in templates[\"Template_Clean3\"]:\n",
        "    sc=0\n",
        "    for word in question.split():\n",
        "      if word in template.split():\n",
        "        sc=sc+1\n",
        "    score.append(sc)\n",
        "\n",
        "  return score    "
      ],
      "metadata": {
        "id": "r7gXT7BASL_u"
      },
      "execution_count": 16,
      "outputs": []
    },
    {
      "cell_type": "markdown",
      "source": [
        "### Calculate Second Similatrity with Similarity_LinguisticApproach"
      ],
      "metadata": {
        "id": "KtA3IJVfJqCe"
      }
    },
    {
      "cell_type": "code",
      "source": [
        "scores = []\n",
        "for question in questions[\"Text_Clean1\"]:\n",
        "  score = Similarity_LinguisticApproach(question, templates)\n",
        "  scores.append(score)\n",
        "\n",
        "print(scores)\n",
        "\n",
        "for s in scores:\n",
        "  count=0\n",
        "  for i in s:\n",
        "    count=count+i\n",
        "  if count==0:\n",
        "    s.clear()\n"
      ],
      "metadata": {
        "id": "FOFN-lk4PHm0",
        "colab": {
          "base_uri": "https://localhost:8080/"
        },
        "outputId": "a0d1c7fd-f53e-40ec-dee2-669f3a4c933a"
      },
      "execution_count": 17,
      "outputs": [
        {
          "output_type": "stream",
          "name": "stdout",
          "text": [
            "[[0, 0, 0, 1, 0, 0, 0, 0], [0, 1, 0, 0, 0, 0, 0, 0], [0, 0, 0, 0, 0, 0, 1, 2], [0, 0, 0, 0, 0, 0, 0, 0], [0, 0, 0, 0, 0, 0, 0, 0], [0, 0, 1, 0, 0, 0, 0, 0], [0, 0, 0, 0, 0, 2, 0, 0], [0, 0, 0, 0, 0, 0, 2, 1]]\n"
          ]
        }
      ]
    },
    {
      "cell_type": "markdown",
      "source": [
        "### Find the biggest similarity"
      ],
      "metadata": {
        "id": "fqKHXlUJJqek"
      }
    },
    {
      "cell_type": "code",
      "source": [
        "predicted_prob = scores\n",
        "predicted2=[]\n",
        "\n",
        "for pred in predicted_prob:\n",
        "  if pred:\n",
        "    x = np.argmax(pred)\n",
        "    predicted2.append(\"T\" + str(x))\n",
        "  \n",
        "  else:\n",
        "    predicted2.append(None)\n"
      ],
      "metadata": {
        "id": "6Pl5GSQyd7La"
      },
      "execution_count": 18,
      "outputs": []
    },
    {
      "cell_type": "markdown",
      "source": [
        "#Template Matching\n",
        "## Combining Both Methods\n",
        "\n",
        "\n"
      ],
      "metadata": {
        "id": "-kUxJ_-oqSzd"
      }
    },
    {
      "cell_type": "code",
      "source": [
        "#print(predicted2)\n",
        "#print(predicted)\n",
        "#print(second)\n",
        "Final_predictions=[]\n",
        "\n",
        "i=0\n",
        "for p1, p2 in zip(predicted, predicted2):\n",
        "  if p2:\n",
        "    if p2==p1:\n",
        "      final_Pred = p1\n",
        "    elif p2==second[i]:\n",
        "      final_Pred = second[i]\n",
        "    else:\n",
        "      final_Pred = p2\n",
        "  else:\n",
        "    final_Pred = p1\n",
        "  \n",
        "  i=i+1\n",
        "  Final_predictions.append(final_Pred)\n",
        "\n",
        "\n",
        "print(\"Final Predictions\", Final_predictions)\n"
      ],
      "metadata": {
        "id": "PeiY7yuqjnx3",
        "colab": {
          "base_uri": "https://localhost:8080/"
        },
        "outputId": "8a0ebf7c-1257-4f79-95f9-f89d50fa953a"
      },
      "execution_count": 19,
      "outputs": [
        {
          "output_type": "stream",
          "name": "stdout",
          "text": [
            "Final Predictions ['T3', 'T1', 'T7', 'T0', 'T4', 'T2', 'T5', 'T6']\n"
          ]
        }
      ]
    },
    {
      "cell_type": "markdown",
      "source": [
        "## Presenting Accuracy, Precision, Recall and Confusion Matrix for the Final Predictions"
      ],
      "metadata": {
        "id": "LN-PXY5ynwTL"
      }
    },
    {
      "cell_type": "code",
      "source": [
        "y_test = questions[\"label\"].values\n",
        "classes = np.unique(y_test)\n",
        "y_test_array = pd.get_dummies(y_test, drop_first=False).values\n",
        "\n",
        "\n",
        "## Accuracy, Precision, Recall\n",
        "accuracy = metrics.accuracy_score(y_test, Final_predictions)\n",
        "print(\"Accuracy:\",  round(accuracy,2))\n",
        "print(\"Detail:\")\n",
        "print(metrics.classification_report(y_test, Final_predictions))\n",
        "\n",
        "\n",
        "\n",
        "## Plot confusion matrix\n",
        "cm = metrics.confusion_matrix(y_test, Final_predictions)\n",
        "fig, ax = plt.subplots()\n",
        "sns.heatmap(cm, annot=True, fmt='d', ax=ax, cmap=plt.cm.Blues, \n",
        "            cbar=False)\n",
        "ax.set(xlabel=\"Pred\", ylabel=\"True\", xticklabels=classes, \n",
        "       yticklabels=classes, title=\"Confusion matrix\")\n",
        "plt.yticks(rotation=0)\n",
        "fig.set_figwidth(20)"
      ],
      "metadata": {
        "colab": {
          "base_uri": "https://localhost:8080/",
          "height": 590
        },
        "id": "suM5CKuVnvjV",
        "outputId": "0d407f5a-466f-481d-f8eb-52cf641f841a"
      },
      "execution_count": 20,
      "outputs": [
        {
          "output_type": "stream",
          "name": "stdout",
          "text": [
            "Accuracy: 1.0\n",
            "Detail:\n",
            "              precision    recall  f1-score   support\n",
            "\n",
            "          T0       1.00      1.00      1.00         1\n",
            "          T1       1.00      1.00      1.00         1\n",
            "          T2       1.00      1.00      1.00         1\n",
            "          T3       1.00      1.00      1.00         1\n",
            "          T4       1.00      1.00      1.00         1\n",
            "          T5       1.00      1.00      1.00         1\n",
            "          T6       1.00      1.00      1.00         1\n",
            "          T7       1.00      1.00      1.00         1\n",
            "\n",
            "    accuracy                           1.00         8\n",
            "   macro avg       1.00      1.00      1.00         8\n",
            "weighted avg       1.00      1.00      1.00         8\n",
            "\n"
          ]
        },
        {
          "output_type": "display_data",
          "data": {
            "text/plain": [
              "<Figure size 1440x288 with 1 Axes>"
            ],
            "image/png": "[encoded data removed]"
          },
          "metadata": {
            "needs_background": "light"
          }
        }
      ]
    },
    {
      "cell_type": "markdown",
      "source": [
        "\n",
        "\n",
        "---\n",
        "\n"
      ],
      "metadata": {
        "id": "m2sK980fF_Mo"
      }
    },
    {
      "cell_type": "markdown",
      "source": [
        "# Answer Retrieval"
      ],
      "metadata": {
        "id": "bxmELxusF696"
      }
    },
    {
      "cell_type": "markdown",
      "source": [
        "## Preprocessing templates"
      ],
      "metadata": {
        "id": "dNvGJ3A-R_m-"
      }
    },
    {
      "cell_type": "code",
      "source": [
        "index=0\n",
        "for cyph_q in templates[\"Cypher\"]:\n",
        "  new_cyph_q = re.sub(\"<+[\\w]*>\", \"#\", cyph_q)\n",
        "  templates.at[index,'Cypher_Clean'] = new_cyph_q\n",
        "  index=index+1\n",
        "  \n",
        "templates[\"Cypher_Clean\"].head()"
      ],
      "metadata": {
        "colab": {
          "base_uri": "https://localhost:8080/"
        },
        "id": "WxcENgsKWcft",
        "outputId": "c69963f9-9cb3-4772-afc7-68eada4ff015"
      },
      "execution_count": 21,
      "outputs": [
        {
          "output_type": "execute_result",
          "data": {
            "text/plain": [
              "0    MATCH (p) WHERE p.ns0__name = \"#\" RETURN p.ns1...\n",
              "1    MATCH (start{ns0__name:\"Santorini\"})-[r:ns0__c...\n",
              "2    MATCH (start{ns0__name:\"Santorini\"})-[r:ns1__A...\n",
              "3    MATCH (start{ns0__name:\"#\"})-[r:ns1__Myths]->(...\n",
              "4    MATCH p=(start{ns0__name:\"#\"})-[r]->(end) RETU...\n",
              "Name: Cypher_Clean, dtype: object"
            ]
          },
          "metadata": {},
          "execution_count": 21
        }
      ]
    },
    {
      "cell_type": "markdown",
      "source": [
        "## Connecting to Neo4j"
      ],
      "metadata": {
        "id": "Rtky7XgYX20-"
      }
    },
    {
      "cell_type": "code",
      "source": [
        "!pip install py2neo\n",
        "from py2neo import Graph\n",
        "\n",
        "graph = Graph(\"neo4j+s://b6c3be65.databases.neo4j.io\", auth=(\"neo4j\", \"santorinikg2023\"))"
      ],
      "metadata": {
        "colab": {
          "base_uri": "https://localhost:8080/"
        },
        "id": "Kt2dZALwYaxV",
        "outputId": "193a967d-2bf2-4d5b-94f7-1b5e8e2f5e22"
      },
      "execution_count": 22,
      "outputs": [
        {
          "output_type": "stream",
          "name": "stdout",
          "text": [
            "Looking in indexes: https://pypi.org/simple, https://us-python.pkg.dev/colab-wheels/public/simple/\n",
            "Requirement already satisfied: py2neo in /usr/local/lib/python3.8/dist-packages (2021.2.3)\n",
            "Requirement already satisfied: pygments>=2.0.0 in /usr/local/lib/python3.8/dist-packages (from py2neo) (2.6.1)\n",
            "Requirement already satisfied: urllib3 in /usr/local/lib/python3.8/dist-packages (from py2neo) (1.24.3)\n",
            "Requirement already satisfied: interchange~=2021.0.4 in /usr/local/lib/python3.8/dist-packages (from py2neo) (2021.0.4)\n",
            "Requirement already satisfied: pansi>=2020.7.3 in /usr/local/lib/python3.8/dist-packages (from py2neo) (2020.7.3)\n",
            "Requirement already satisfied: monotonic in /usr/local/lib/python3.8/dist-packages (from py2neo) (1.6)\n",
            "Requirement already satisfied: certifi in /usr/local/lib/python3.8/dist-packages (from py2neo) (2022.12.7)\n",
            "Requirement already satisfied: six>=1.15.0 in /usr/local/lib/python3.8/dist-packages (from py2neo) (1.15.0)\n",
            "Requirement already satisfied: packaging in /usr/local/lib/python3.8/dist-packages (from py2neo) (21.3)\n",
            "Requirement already satisfied: pytz in /usr/local/lib/python3.8/dist-packages (from interchange~=2021.0.4->py2neo) (2022.7)\n",
            "Requirement already satisfied: pyparsing!=3.0.5,>=2.0.2 in /usr/local/lib/python3.8/dist-packages (from packaging->py2neo) (3.0.9)\n"
          ]
        }
      ]
    },
    {
      "cell_type": "markdown",
      "source": [
        "## For each question fetching the appropriate cypher query and returning the right answer"
      ],
      "metadata": {
        "id": "pEDnXNzQdNe-"
      }
    },
    {
      "cell_type": "code",
      "source": [
        "def answer_Retrieval(Final_prediction, Question, templates):\n",
        "  #fetching the appropriate template\n",
        "  template_index = int(Final_prediction[1])\n",
        "  cypher_query = templates[\"Cypher_Clean\"].iloc[template_index]\n",
        "\n",
        "  if cypher_query.count(\"#\") > 0:\n",
        "    cypher_query = QA_NER(Question, cypher_query)\n",
        "    \n",
        "  answer = graph.run(cypher_query).to_data_frame()\n",
        "  \n",
        "  return answer"
      ],
      "metadata": {
        "id": "gEceZ4nikkvF"
      },
      "execution_count": 23,
      "outputs": []
    },
    {
      "cell_type": "code",
      "source": [
        "def QA_NER(Question, cypher_query):\n",
        "  NER = spacy.load(\"en_core_web_sm\")\n",
        "  \n",
        "  #Truecasing the questions in order to apply NER method \n",
        "  n = truecase.get_true_case(Question)\n",
        "  #Using NER to find the key entity that is required in the cypher query\n",
        "  entities = NER(n)\n",
        "\n",
        "  if cypher_query.count(\"#\") == 1:\n",
        "    for word in entities.ents:\n",
        "      cypher_query = cypher_query.replace(\"#\", str(word))\n",
        "    \n",
        "  elif cypher_query.count(\"#\") == entities.ents.count:\n",
        "    indexes = [x.start() for x in re.finditer('\\#', cypher_query)]\n",
        "        \n",
        "    for i, word in zip(indexes, entities.ents):\n",
        "      cypher_query = cypher_query[:i] + str(word) + cypher_query[i+1:] \n",
        "        \n",
        "  return cypher_query"
      ],
      "metadata": {
        "id": "pKnAm_Yckkdr"
      },
      "execution_count": 24,
      "outputs": []
    },
    {
      "cell_type": "code",
      "source": [
        "for q, p in zip(questions[\"text\"], Final_predictions):\n",
        "  print(\"Question: \", q)\n",
        "  answer = answer_Retrieval(p , q, templates)\n",
        "  print(\"Answer:\\n\", answer)"
      ],
      "metadata": {
        "colab": {
          "base_uri": "https://localhost:8080/"
        },
        "id": "P5w5n9B6ksBP",
        "outputId": "b9b766f7-239e-4e92-a821-7a8d1f0f3b93"
      },
      "execution_count": 25,
      "outputs": [
        {
          "output_type": "stream",
          "name": "stdout",
          "text": [
            "Question:  Are there any myths about santorini\n",
            "Answer:\n",
            "       Entity    Relation           Entity2_Name  \\\n",
            "0  Santorini  ns1__Myths  Lost City of Atlantis   \n",
            "\n",
            "                                 Entity2_Description  \n",
            "0  Santorini has often been connected with Atlant...  \n",
            "Question:  What are the villages of Santorini?\n",
            "Answer:\n",
            "        Entity            Relation  \\\n",
            "0   Santorini  ns0__containsPlace   \n",
            "1   Santorini  ns0__containsPlace   \n",
            "2   Santorini  ns0__containsPlace   \n",
            "3   Santorini  ns0__containsPlace   \n",
            "4   Santorini  ns0__containsPlace   \n",
            "5   Santorini  ns0__containsPlace   \n",
            "6   Santorini  ns0__containsPlace   \n",
            "7   Santorini  ns0__containsPlace   \n",
            "8   Santorini  ns0__containsPlace   \n",
            "9   Santorini  ns0__containsPlace   \n",
            "10  Santorini  ns0__containsPlace   \n",
            "11  Santorini  ns0__containsPlace   \n",
            "12  Santorini  ns0__containsPlace   \n",
            "13  Santorini  ns0__containsPlace   \n",
            "14  Santorini  ns0__containsPlace   \n",
            "15  Santorini  ns0__containsPlace   \n",
            "16  Santorini  ns0__containsPlace   \n",
            "17  Santorini  ns0__containsPlace   \n",
            "18  Santorini  ns0__containsPlace   \n",
            "19  Santorini  ns0__containsPlace   \n",
            "20  Santorini  ns0__containsPlace   \n",
            "21  Santorini  ns0__containsPlace   \n",
            "\n",
            "                                              Entity2  \n",
            "0   {'ns0__name': 'Monolithos', 'uri': 'http://San...  \n",
            "1   {'ns0__name': 'Finikia', 'uri': 'http://Santor...  \n",
            "2   {'ns0__name': 'Mesa Gonia', 'uri': 'http://San...  \n",
            "3   {'ns0__name': 'Vourvoulos', 'uri': 'http://San...  \n",
            "4   {'ns0__name': 'Kamari', 'uri': 'http://Santori...  \n",
            "5   {'ns0__name': 'Akrotiri', 'uri': 'http://Santo...  \n",
            "6   {'ns0__name': 'Athinios', 'uri': 'http://Santo...  \n",
            "7   {'ns0__name': 'Messaria', 'uri': 'http://Santo...  \n",
            "8   {'ns0__name': 'Imerovigli', 'uri': 'http://San...  \n",
            "9   {'ns0__name': 'Megalochori', 'uri': 'http://Sa...  \n",
            "10  {'ns0__name': 'Exo Gonia', 'uri': 'http://Sant...  \n",
            "11  {'ns0__name': 'Emporio', 'uri': 'http://Santor...  \n",
            "12  {'ns0__name': 'Pyrgos', 'uri': 'http://Santori...  \n",
            "13  {'ns0__name': 'Fira', 'uri': 'http://Santorini...  \n",
            "14  {'ns0__name': 'Firostefani', 'uri': 'http://Sa...  \n",
            "15  {'ns0__name': 'Perissa', 'uri': 'http://Santor...  \n",
            "16  {'ns0__name': 'Paradisos', 'uri': 'http://Sant...  \n",
            "17  {'ns0__name': 'Perivolos', 'uri': 'http://Sant...  \n",
            "18  {'ns0__name': 'Ammoudi', 'uri': 'http://Santor...  \n",
            "19  {'ns0__name': 'Vothonas', 'uri': 'http://Santo...  \n",
            "20  {'ns0__name': 'Oia', 'uri': 'http://SantoriniT...  \n",
            "21  {'ns0__name': 'Karterados', 'uri': 'http://San...  \n",
            "Question:  What are the most romantic places for couples?\n",
            "Answer:\n",
            "       Entity            Relation Entity2_Name\n",
            "0  Santorini  ns0__containsPlace     Akrotiri\n",
            "1  Santorini  ns0__containsPlace   Imerovigli\n",
            "2  Santorini  ns0__containsPlace       Pyrgos\n",
            "3  Santorini  ns0__containsPlace          Oia\n",
            "Question:  What is the history of Santorini?\n",
            "Answer:\n",
            "                                       Brief_History\n",
            "0  https://www.santorini.com/santorini/history.html\n",
            "Question:  What can you tell me about akrotiri?\n",
            "Answer:\n",
            "      Entity                                         Labels    Relation  \\\n",
            "0  Akrotiri  [Resource, ns1__Romantic_Place, ns1__Village]  ns1__Visit   \n",
            "1  Akrotiri  [Resource, ns1__Romantic_Place, ns1__Village]  ns1__Visit   \n",
            "2  Akrotiri  [Resource, ns1__Romantic_Place, ns1__Village]    ns1__See   \n",
            "3  Akrotiri  [Resource, ns1__Romantic_Place, ns1__Village]  ns1__Visit   \n",
            "4  Akrotiri  [Resource, ns1__Romantic_Place, ns1__Village]    ns1__See   \n",
            "5  Akrotiri  [Resource, ns1__Romantic_Place, ns1__Village]    ns1__See   \n",
            "6  Akrotiri  [Resource, ns1__Romantic_Place, ns1__Village]  ns1__Visit   \n",
            "7  Akrotiri  [Resource, ns1__Romantic_Place, ns1__Village]  ns1__Visit   \n",
            "\n",
            "                                                 end  \n",
            "0  {'ns0__name': 'Mesa Pigadia Beach', 'ns0__hasM...  \n",
            "1  {'ns0__name': 'White Beach', 'ns0__hasMap': 'h...  \n",
            "2  {'ns0__name': 'Akrotiri Lighthouse', 'uri': 'h...  \n",
            "3  {'ns0__name': 'Almyra Beach', 'ns0__hasMap': '...  \n",
            "4  {'ns0__name': 'The castle of Akrotiri', 'uri':...  \n",
            "5  {'ns0__name': 'Akrotíri Archaeological Site', ...  \n",
            "6  {'ns0__name': 'Caldera Beach', 'ns0__hasMap': ...  \n",
            "7  {'ns0__name': 'Red Beach', 'ns0__hasMap': 'htt...  \n",
            "Question:  Is Santorini known as Thera too?\n",
            "Answer:\n",
            "       Entity            Relation Entity2_Name  \\\n",
            "0  Santorini  ns1__Also_Known_As     Kalliste   \n",
            "1  Santorini  ns1__Also_Known_As        Thira   \n",
            "2  Santorini  ns1__Also_Known_As    Strongili   \n",
            "\n",
            "                                 Entity2_Name_Origin  \n",
            "0  The name Kallisti or Kalliste (Καλλίστη) means...  \n",
            "1  The name Thera comes from the commander Theras...  \n",
            "2  The first Volcanic craters began to form about...  \n",
            "Question:  What means of transport can I use to get around in Santorini?\n",
            "Answer:\n",
            "       Entity         Relation Entity2_Name\n",
            "0  Santorini  ns1__Get_Around          Bus\n",
            "1  Santorini  ns1__Get_Around   Rental Car\n",
            "2  Santorini  ns1__Get_Around         Boat\n",
            "3  Santorini  ns1__Get_Around      Bicycle\n",
            "4  Santorini  ns1__Get_Around      By Foot\n",
            "5  Santorini  ns1__Get_Around         Taxi\n",
            "Question:  Recommended places for families\n",
            "Answer:\n",
            "       Entity            Relation Entity2_Name\n",
            "0  Santorini  ns0__containsPlace       Kamari\n"
          ]
        }
      ]
    },
    {
      "cell_type": "markdown",
      "source": [
        "## Recommend next question the user might be interested in"
      ],
      "metadata": {
        "id": "elj_8IEDPhUM"
      }
    },
    {
      "cell_type": "code",
      "source": [
        "def recommendation_retrieval(Sec_prediction, previous_question, templates):\n",
        "  #fetching the appropriate template\n",
        "  template_index = int(Sec_prediction[1])\n",
        "  cypher_query = templates[\"Cypher_Clean\"].iloc[template_index]\n",
        "\n",
        "  NER = spacy.load(\"en_core_web_sm\")\n",
        "  n = truecase.get_true_case(previous_question)\n",
        "  #Using NER to find the key entity that is required in the cypher query\n",
        "  entities = NER(n)\n",
        "\n",
        "  if cypher_query.count(\"#\") > 0:\n",
        "    for word in entities.ents:\n",
        "      cypher_query = cypher_query.replace(\"#\", str(word))\n",
        "    print(cypher_query)    \n",
        "\n",
        "  answer = graph.run(cypher_query).to_data_frame()\n",
        "  \n",
        "  return answer"
      ],
      "metadata": {
        "id": "rkNUypcFObXr"
      },
      "execution_count": 26,
      "outputs": []
    },
    {
      "cell_type": "code",
      "source": [
        "for q, p, s in zip(questions[\"text\"], Final_predictions, second):\n",
        "  if p != s:\n",
        "    #fetching the appropriate template\n",
        "    template_index = int(s[1])\n",
        "    nl = templates[\"Template\"].iloc[template_index]\n",
        "    \n",
        "    print(\"Would you like to know more about: \", nl)\n",
        "\n",
        "    input1 = input(\"Type YES/NO to continue: \")\n",
        "    if input1.upper() == \"YES\":\n",
        "      answer2 = recommendation_retrieval(s, q, templates)\n",
        "      print(\"Answer:\\n\", answer2)    \n",
        "\n",
        "    print(\"Thank you! Bye Bye! :)\")"
      ],
      "metadata": {
        "colab": {
          "base_uri": "https://localhost:8080/"
        },
        "id": "eaclKnZWNwUW",
        "outputId": "0757285c-80cc-49ce-caee-60e1a0e0cf24"
      },
      "execution_count": 27,
      "outputs": [
        {
          "output_type": "stream",
          "name": "stdout",
          "text": [
            "Would you like to know more about:  Historical Info about <Place>\n",
            "Type YES/NO to continue: Yes\n",
            "MATCH (p) WHERE p.ns0__name = \"Santorini\" RETURN p.ns1__Brief_History AS Brief_History;\n",
            "Answer:\n",
            "                                       Brief_History\n",
            "0  https://www.santorini.com/santorini/history.html\n",
            "Thank you! Bye Bye! :)\n",
            "Would you like to know more about:  What are some family friendly places?\n",
            "Type YES/NO to continue: Yes\n",
            "Answer:\n",
            "       Entity            Relation Entity2_Name\n",
            "0  Santorini  ns0__containsPlace       Kamari\n",
            "Thank you! Bye Bye! :)\n",
            "Would you like to know more about:  What are some family friendly places?\n",
            "Type YES/NO to continue: Yes\n",
            "Answer:\n",
            "       Entity            Relation Entity2_Name\n",
            "0  Santorini  ns0__containsPlace       Kamari\n",
            "Thank you! Bye Bye! :)\n",
            "Would you like to know more about:  What are some romantic places?\n",
            "Type YES/NO to continue: Yes\n",
            "Answer:\n",
            "       Entity            Relation Entity2_Name\n",
            "0  Santorini  ns0__containsPlace     Akrotiri\n",
            "1  Santorini  ns0__containsPlace   Imerovigli\n",
            "2  Santorini  ns0__containsPlace       Pyrgos\n",
            "3  Santorini  ns0__containsPlace          Oia\n",
            "Thank you! Bye Bye! :)\n",
            "Would you like to know more about:  Historical Info about <Place>\n",
            "Type YES/NO to continue: Yes\n",
            "MATCH (p) WHERE p.ns0__name = \"Akrotiri\" RETURN p.ns1__Brief_History AS Brief_History;\n",
            "Answer:\n",
            "   Brief_History\n",
            "0          None\n",
            "Thank you! Bye Bye! :)\n",
            "Would you like to know more about:  Villages of Santorini\n",
            "Type YES/NO to continue: Yes\n",
            "Answer:\n",
            "        Entity            Relation  \\\n",
            "0   Santorini  ns0__containsPlace   \n",
            "1   Santorini  ns0__containsPlace   \n",
            "2   Santorini  ns0__containsPlace   \n",
            "3   Santorini  ns0__containsPlace   \n",
            "4   Santorini  ns0__containsPlace   \n",
            "5   Santorini  ns0__containsPlace   \n",
            "6   Santorini  ns0__containsPlace   \n",
            "7   Santorini  ns0__containsPlace   \n",
            "8   Santorini  ns0__containsPlace   \n",
            "9   Santorini  ns0__containsPlace   \n",
            "10  Santorini  ns0__containsPlace   \n",
            "11  Santorini  ns0__containsPlace   \n",
            "12  Santorini  ns0__containsPlace   \n",
            "13  Santorini  ns0__containsPlace   \n",
            "14  Santorini  ns0__containsPlace   \n",
            "15  Santorini  ns0__containsPlace   \n",
            "16  Santorini  ns0__containsPlace   \n",
            "17  Santorini  ns0__containsPlace   \n",
            "18  Santorini  ns0__containsPlace   \n",
            "19  Santorini  ns0__containsPlace   \n",
            "20  Santorini  ns0__containsPlace   \n",
            "21  Santorini  ns0__containsPlace   \n",
            "\n",
            "                                              Entity2  \n",
            "0   {'ns0__name': 'Monolithos', 'uri': 'http://San...  \n",
            "1   {'ns0__name': 'Finikia', 'uri': 'http://Santor...  \n",
            "2   {'ns0__name': 'Mesa Gonia', 'uri': 'http://San...  \n",
            "3   {'ns0__name': 'Vourvoulos', 'uri': 'http://San...  \n",
            "4   {'ns0__name': 'Kamari', 'uri': 'http://Santori...  \n",
            "5   {'ns0__name': 'Akrotiri', 'uri': 'http://Santo...  \n",
            "6   {'ns0__name': 'Athinios', 'uri': 'http://Santo...  \n",
            "7   {'ns0__name': 'Messaria', 'uri': 'http://Santo...  \n",
            "8   {'ns0__name': 'Imerovigli', 'uri': 'http://San...  \n",
            "9   {'ns0__name': 'Megalochori', 'uri': 'http://Sa...  \n",
            "10  {'ns0__name': 'Exo Gonia', 'uri': 'http://Sant...  \n",
            "11  {'ns0__name': 'Emporio', 'uri': 'http://Santor...  \n",
            "12  {'ns0__name': 'Pyrgos', 'uri': 'http://Santori...  \n",
            "13  {'ns0__name': 'Fira', 'uri': 'http://Santorini...  \n",
            "14  {'ns0__name': 'Firostefani', 'uri': 'http://Sa...  \n",
            "15  {'ns0__name': 'Perissa', 'uri': 'http://Santor...  \n",
            "16  {'ns0__name': 'Paradisos', 'uri': 'http://Sant...  \n",
            "17  {'ns0__name': 'Perivolos', 'uri': 'http://Sant...  \n",
            "18  {'ns0__name': 'Ammoudi', 'uri': 'http://Santor...  \n",
            "19  {'ns0__name': 'Vothonas', 'uri': 'http://Santo...  \n",
            "20  {'ns0__name': 'Oia', 'uri': 'http://SantoriniT...  \n",
            "21  {'ns0__name': 'Karterados', 'uri': 'http://San...  \n",
            "Thank you! Bye Bye! :)\n",
            "Would you like to know more about:  What are some family friendly places?\n",
            "Type YES/NO to continue: Yes\n",
            "Answer:\n",
            "       Entity            Relation Entity2_Name\n",
            "0  Santorini  ns0__containsPlace       Kamari\n",
            "Thank you! Bye Bye! :)\n",
            "Would you like to know more about:  What are some romantic places?\n",
            "Type YES/NO to continue: Yes\n",
            "Answer:\n",
            "       Entity            Relation Entity2_Name\n",
            "0  Santorini  ns0__containsPlace     Akrotiri\n",
            "1  Santorini  ns0__containsPlace   Imerovigli\n",
            "2  Santorini  ns0__containsPlace       Pyrgos\n",
            "3  Santorini  ns0__containsPlace          Oia\n",
            "Thank you! Bye Bye! :)\n"
          ]
        }
      ]
    }
  ]
}